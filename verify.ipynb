{
 "metadata": {
  "language_info": {
   "codemirror_mode": {
    "name": "ipython",
    "version": 3
   },
   "file_extension": ".py",
   "mimetype": "text/x-python",
   "name": "python",
   "nbconvert_exporter": "python",
   "pygments_lexer": "ipython3",
   "version": "3.7.6"
  },
  "orig_nbformat": 2,
  "kernelspec": {
   "name": "python3",
   "display_name": "Python 3",
   "language": "python"
  }
 },
 "nbformat": 4,
 "nbformat_minor": 2,
 "cells": [
  {
   "cell_type": "code",
   "execution_count": 61,
   "metadata": {},
   "outputs": [],
   "source": [
    "import pandas as pd \n",
    "import numpy as np\n",
    "import matplotlib.pyplot as plt"
   ]
  },
  {
   "cell_type": "code",
   "execution_count": 62,
   "metadata": {},
   "outputs": [],
   "source": [
    "rating_data = pd.read_csv('./data/rating.csv')\n",
    "user_data = pd.read_csv('./data/user.csv')\n",
    "user_data.rename(columns={'id':'userId'}, inplace=True)\n",
    "merge_data = rating_data.merge(user_data, on='userId')"
   ]
  },
  {
   "cell_type": "code",
   "execution_count": 63,
   "metadata": {},
   "outputs": [
    {
     "output_type": "execute_result",
     "data": {
      "text/plain": [
       "661"
      ]
     },
     "metadata": {},
     "execution_count": 63
    }
   ],
   "source": [
    "merge_data\n",
    "len(merge_data['userId'].unique())"
   ]
  },
  {
   "cell_type": "code",
   "execution_count": 64,
   "metadata": {},
   "outputs": [
    {
     "output_type": "execute_result",
     "data": {
      "text/plain": [
       "869"
      ]
     },
     "metadata": {},
     "execution_count": 64
    }
   ],
   "source": [
    "len(user_data['userId'].unique())"
   ]
  },
  {
   "cell_type": "code",
   "execution_count": 65,
   "metadata": {},
   "outputs": [
    {
     "output_type": "execute_result",
     "data": {
      "text/plain": [
       "          id  userId productId reviewType           rating\n",
       "0          1       3        p3         r1     Very Helpful\n",
       "1          2       3        p3         r2     Very Helpful\n",
       "2          3       3        p3         r3     Very Helpful\n",
       "3          4       3        p3         r4     Very Helpful\n",
       "4          5       3        p3         r5     Very Helpful\n",
       "...      ...     ...       ...        ...              ...\n",
       "38887  38888     870        p9         r2         Not Sure\n",
       "38888  38889     870        p9         r3  Somehow Helpful\n",
       "38889  38890     870        p9         r4         Not Sure\n",
       "38890  38891     870        p9         r5         Not Sure\n",
       "38891  38892     870        p9         r6  Somehow Helpful\n",
       "\n",
       "[38892 rows x 5 columns]"
      ],
      "text/html": "<div>\n<style scoped>\n    .dataframe tbody tr th:only-of-type {\n        vertical-align: middle;\n    }\n\n    .dataframe tbody tr th {\n        vertical-align: top;\n    }\n\n    .dataframe thead th {\n        text-align: right;\n    }\n</style>\n<table border=\"1\" class=\"dataframe\">\n  <thead>\n    <tr style=\"text-align: right;\">\n      <th></th>\n      <th>id</th>\n      <th>userId</th>\n      <th>productId</th>\n      <th>reviewType</th>\n      <th>rating</th>\n    </tr>\n  </thead>\n  <tbody>\n    <tr>\n      <th>0</th>\n      <td>1</td>\n      <td>3</td>\n      <td>p3</td>\n      <td>r1</td>\n      <td>Very Helpful</td>\n    </tr>\n    <tr>\n      <th>1</th>\n      <td>2</td>\n      <td>3</td>\n      <td>p3</td>\n      <td>r2</td>\n      <td>Very Helpful</td>\n    </tr>\n    <tr>\n      <th>2</th>\n      <td>3</td>\n      <td>3</td>\n      <td>p3</td>\n      <td>r3</td>\n      <td>Very Helpful</td>\n    </tr>\n    <tr>\n      <th>3</th>\n      <td>4</td>\n      <td>3</td>\n      <td>p3</td>\n      <td>r4</td>\n      <td>Very Helpful</td>\n    </tr>\n    <tr>\n      <th>4</th>\n      <td>5</td>\n      <td>3</td>\n      <td>p3</td>\n      <td>r5</td>\n      <td>Very Helpful</td>\n    </tr>\n    <tr>\n      <th>...</th>\n      <td>...</td>\n      <td>...</td>\n      <td>...</td>\n      <td>...</td>\n      <td>...</td>\n    </tr>\n    <tr>\n      <th>38887</th>\n      <td>38888</td>\n      <td>870</td>\n      <td>p9</td>\n      <td>r2</td>\n      <td>Not Sure</td>\n    </tr>\n    <tr>\n      <th>38888</th>\n      <td>38889</td>\n      <td>870</td>\n      <td>p9</td>\n      <td>r3</td>\n      <td>Somehow Helpful</td>\n    </tr>\n    <tr>\n      <th>38889</th>\n      <td>38890</td>\n      <td>870</td>\n      <td>p9</td>\n      <td>r4</td>\n      <td>Not Sure</td>\n    </tr>\n    <tr>\n      <th>38890</th>\n      <td>38891</td>\n      <td>870</td>\n      <td>p9</td>\n      <td>r5</td>\n      <td>Not Sure</td>\n    </tr>\n    <tr>\n      <th>38891</th>\n      <td>38892</td>\n      <td>870</td>\n      <td>p9</td>\n      <td>r6</td>\n      <td>Somehow Helpful</td>\n    </tr>\n  </tbody>\n</table>\n<p>38892 rows × 5 columns</p>\n</div>"
     },
     "metadata": {},
     "execution_count": 65
    }
   ],
   "source": [
    "rating_data"
   ]
  },
  {
   "cell_type": "code",
   "execution_count": 66,
   "metadata": {},
   "outputs": [
    {
     "output_type": "execute_result",
     "data": {
      "text/plain": [
       "564"
      ]
     },
     "metadata": {},
     "execution_count": 66
    }
   ],
   "source": [
    "# Eliminated unfinished user \n",
    "saveUser1 = merge_data.groupby('userId', as_index=False).count()[['userId', 'productId']]\n",
    "saveUser1 = saveUser1.loc[saveUser1.loc[:, 'productId'] >= 60, 'userId'].to_list()\n",
    "\n",
    "# Eliminated not use amazon and read_review user \n",
    "finalUser = merge_data[(merge_data.use_amazon == 'use_amazon-yes') \n",
    "            & (merge_data.read_review == 'read_review-yes') \n",
    "            & (merge_data.userId.isin(saveUser1))\n",
    "            & (merge_data.age > 10)]\n",
    "\n",
    "# Number Count \n",
    "len(finalUser['userId'].unique())"
   ]
  },
  {
   "cell_type": "code",
   "execution_count": 67,
   "metadata": {},
   "outputs": [
    {
     "output_type": "execute_result",
     "data": {
      "text/plain": [
       "Text(0.5, 0, 'Number of Rating Type')"
      ]
     },
     "metadata": {},
     "execution_count": 67
    },
    {
     "output_type": "display_data",
     "data": {
      "text/plain": "<Figure size 432x288 with 1 Axes>",
      "image/svg+xml": "<?xml version=\"1.0\" encoding=\"utf-8\" standalone=\"no\"?>\n<!DOCTYPE svg PUBLIC \"-//W3C//DTD SVG 1.1//EN\"\n  \"http://www.w3.org/Graphics/SVG/1.1/DTD/svg11.dtd\">\n<!-- Created with matplotlib (https://matplotlib.org/) -->\n<svg height=\"259.168125pt\" version=\"1.1\" viewBox=\"0 0 371.2 259.168125\" width=\"371.2pt\" xmlns=\"http://www.w3.org/2000/svg\" xmlns:xlink=\"http://www.w3.org/1999/xlink\">\n <defs>\n  <style type=\"text/css\">\n*{stroke-linecap:butt;stroke-linejoin:round;}\n  </style>\n </defs>\n <g id=\"figure_1\">\n  <g id=\"patch_1\">\n   <path d=\"M 0 259.168125 \nL 371.2 259.168125 \nL 371.2 0 \nL 0 0 \nz\n\" style=\"fill:none;\"/>\n  </g>\n  <g id=\"axes_1\">\n   <g id=\"patch_2\">\n    <path d=\"M 29.2 224.64 \nL 364 224.64 \nL 364 7.2 \nL 29.2 7.2 \nz\n\" style=\"fill:#ffffff;\"/>\n   </g>\n   <g id=\"patch_3\">\n    <path clip-path=\"url(#p9a77019bfb)\" d=\"M 44.418182 224.64 \nL 95.145455 224.64 \nL 95.145455 207.286449 \nL 44.418182 207.286449 \nz\n\" style=\"fill:#1f77b4;\"/>\n   </g>\n   <g id=\"patch_4\">\n    <path clip-path=\"url(#p9a77019bfb)\" d=\"M 107.827273 224.64 \nL 158.554545 224.64 \nL 158.554545 17.554286 \nL 107.827273 17.554286 \nz\n\" style=\"fill:#1f77b4;\"/>\n   </g>\n   <g id=\"patch_5\">\n    <path clip-path=\"url(#p9a77019bfb)\" d=\"M 171.236364 224.64 \nL 221.963636 224.64 \nL 221.963636 44.163065 \nL 171.236364 44.163065 \nz\n\" style=\"fill:#1f77b4;\"/>\n   </g>\n   <g id=\"patch_6\">\n    <path clip-path=\"url(#p9a77019bfb)\" d=\"M 234.645455 224.64 \nL 285.372727 224.64 \nL 285.372727 66.14423 \nL 234.645455 66.14423 \nz\n\" style=\"fill:#1f77b4;\"/>\n   </g>\n   <g id=\"patch_7\">\n    <path clip-path=\"url(#p9a77019bfb)\" d=\"M 298.054545 224.64 \nL 348.781818 224.64 \nL 348.781818 135.558436 \nL 298.054545 135.558436 \nz\n\" style=\"fill:#1f77b4;\"/>\n   </g>\n   <g id=\"matplotlib.axis_1\">\n    <g id=\"xtick_1\">\n     <g id=\"line2d_1\">\n      <defs>\n       <path d=\"M 0 0 \nL 0 3.5 \n\" id=\"m069e5918d3\" style=\"stroke:#000000;stroke-width:0.8;\"/>\n      </defs>\n      <g>\n       <use style=\"stroke:#000000;stroke-width:0.8;\" x=\"69.781818\" xlink:href=\"#m069e5918d3\" y=\"224.64\"/>\n      </g>\n     </g>\n     <g id=\"text_1\">\n      <!-- 1 -->\n      <defs>\n       <path d=\"M 30.46875 1.5625 \nL 21.484375 1.5625 \nL 21.484375 53.515625 \nL 9.765625 53.515625 \nL 9.765625 58.203125 \nQ 16.796875 58.203125 20.703125 60.9375 \nQ 24.609375 63.671875 25.78125 69.140625 \nL 30.46875 69.140625 \nz\n\" id=\"SimHei-49\"/>\n      </defs>\n      <g transform=\"translate(67.281818 238.475938)scale(0.1 -0.1)\">\n       <use xlink:href=\"#SimHei-49\"/>\n      </g>\n     </g>\n    </g>\n    <g id=\"xtick_2\">\n     <g id=\"line2d_2\">\n      <g>\n       <use style=\"stroke:#000000;stroke-width:0.8;\" x=\"133.190909\" xlink:href=\"#m069e5918d3\" y=\"224.64\"/>\n      </g>\n     </g>\n     <g id=\"text_2\">\n      <!-- 2 -->\n      <defs>\n       <path d=\"M 44.53125 1.5625 \nL 4.6875 1.5625 \nL 4.6875 7.8125 \nQ 7.03125 14.0625 11.125 19.328125 \nQ 15.234375 24.609375 23.046875 31.25 \nQ 28.90625 36.328125 31.4375 40.625 \nQ 33.984375 44.921875 33.984375 50 \nQ 33.984375 55.078125 31.828125 58.390625 \nQ 29.6875 61.71875 25 61.71875 \nQ 21.09375 61.71875 18.15625 58.203125 \nQ 15.234375 54.6875 15.234375 45.703125 \nL 6.25 45.703125 \nQ 6.640625 57.03125 11.515625 63.078125 \nQ 16.40625 69.140625 25.390625 69.140625 \nQ 33.984375 69.140625 38.671875 63.859375 \nQ 43.359375 58.59375 43.359375 49.609375 \nQ 43.359375 42.1875 39.0625 36.71875 \nQ 34.765625 31.25 28.515625 25.78125 \nQ 21.484375 19.53125 18.75 16.40625 \nQ 16.015625 13.28125 13.671875 8.984375 \nL 44.53125 8.984375 \nz\n\" id=\"SimHei-50\"/>\n      </defs>\n      <g transform=\"translate(130.690909 238.475938)scale(0.1 -0.1)\">\n       <use xlink:href=\"#SimHei-50\"/>\n      </g>\n     </g>\n    </g>\n    <g id=\"xtick_3\">\n     <g id=\"line2d_3\">\n      <g>\n       <use style=\"stroke:#000000;stroke-width:0.8;\" x=\"196.6\" xlink:href=\"#m069e5918d3\" y=\"224.64\"/>\n      </g>\n     </g>\n     <g id=\"text_3\">\n      <!-- 3 -->\n      <defs>\n       <path d=\"M 44.140625 20.3125 \nQ 44.140625 11.328125 38.46875 6.046875 \nQ 32.8125 0.78125 24.21875 0.78125 \nQ 15.625 0.78125 9.953125 6.046875 \nQ 4.296875 11.328125 4.296875 22.265625 \nL 13.28125 22.265625 \nQ 13.28125 14.84375 16.203125 11.515625 \nQ 19.140625 8.203125 24.21875 8.203125 \nQ 29.296875 8.203125 32.03125 11.328125 \nQ 34.765625 14.453125 34.765625 21.09375 \nQ 34.765625 26.5625 31.828125 29.6875 \nQ 28.90625 32.8125 21.484375 32.8125 \nL 21.484375 39.453125 \nQ 27.734375 39.453125 30.65625 42.578125 \nQ 33.59375 45.703125 33.59375 51.953125 \nQ 33.59375 56.640625 31.4375 59.375 \nQ 29.296875 62.109375 24.609375 62.109375 \nQ 19.921875 62.109375 17.375 58.78125 \nQ 14.84375 55.46875 14.453125 49.21875 \nL 5.859375 49.21875 \nQ 6.640625 58.203125 11.515625 63.671875 \nQ 16.40625 69.140625 24.609375 69.140625 \nQ 33.203125 69.140625 37.890625 64.25 \nQ 42.578125 59.375 42.578125 52.34375 \nQ 42.578125 45.703125 40.234375 41.984375 \nQ 37.890625 38.28125 32.421875 36.328125 \nQ 37.890625 35.15625 41.015625 30.859375 \nQ 44.140625 26.5625 44.140625 20.3125 \nz\n\" id=\"SimHei-51\"/>\n      </defs>\n      <g transform=\"translate(194.1 238.475938)scale(0.1 -0.1)\">\n       <use xlink:href=\"#SimHei-51\"/>\n      </g>\n     </g>\n    </g>\n    <g id=\"xtick_4\">\n     <g id=\"line2d_4\">\n      <g>\n       <use style=\"stroke:#000000;stroke-width:0.8;\" x=\"260.009091\" xlink:href=\"#m069e5918d3\" y=\"224.64\"/>\n      </g>\n     </g>\n     <g id=\"text_4\">\n      <!-- 4 -->\n      <defs>\n       <path d=\"M 46.484375 18.75 \nL 38.28125 18.75 \nL 38.28125 1.5625 \nL 29.296875 1.5625 \nL 29.296875 18.75 \nL 3.125 18.75 \nL 3.125 26.171875 \nL 29.296875 69.140625 \nL 38.28125 69.140625 \nL 38.28125 26.171875 \nL 46.484375 26.171875 \nz\nM 29.296875 26.171875 \nL 29.296875 55.078125 \nL 11.71875 26.171875 \nz\n\" id=\"SimHei-52\"/>\n      </defs>\n      <g transform=\"translate(257.509091 238.475938)scale(0.1 -0.1)\">\n       <use xlink:href=\"#SimHei-52\"/>\n      </g>\n     </g>\n    </g>\n    <g id=\"xtick_5\">\n     <g id=\"line2d_5\">\n      <g>\n       <use style=\"stroke:#000000;stroke-width:0.8;\" x=\"323.418182\" xlink:href=\"#m069e5918d3\" y=\"224.64\"/>\n      </g>\n     </g>\n     <g id=\"text_5\">\n      <!-- 5 -->\n      <defs>\n       <path d=\"M 44.140625 25.78125 \nQ 44.140625 14.0625 38.46875 7.421875 \nQ 32.8125 0.78125 23.4375 0.78125 \nQ 15.234375 0.78125 9.953125 6.25 \nQ 4.6875 11.71875 4.296875 21.09375 \nL 13.28125 21.09375 \nQ 13.28125 15.234375 16.015625 11.71875 \nQ 18.75 8.203125 23.828125 8.203125 \nQ 28.90625 8.203125 31.828125 12.5 \nQ 34.765625 16.796875 34.765625 25.78125 \nQ 34.765625 33.59375 32.21875 37.296875 \nQ 29.6875 41.015625 25.390625 41.015625 \nQ 21.875 41.015625 19.328125 39.453125 \nQ 16.796875 37.890625 14.453125 33.984375 \nL 6.640625 33.984375 \nL 8.984375 68.359375 \nL 42.578125 68.359375 \nL 42.578125 60.9375 \nL 16.40625 60.9375 \nL 14.84375 42.96875 \nQ 17.1875 45.3125 19.921875 46.484375 \nQ 22.65625 47.65625 27.34375 47.65625 \nQ 34.765625 47.65625 39.453125 41.984375 \nQ 44.140625 36.328125 44.140625 25.78125 \nz\n\" id=\"SimHei-53\"/>\n      </defs>\n      <g transform=\"translate(320.918182 238.475938)scale(0.1 -0.1)\">\n       <use xlink:href=\"#SimHei-53\"/>\n      </g>\n     </g>\n    </g>\n    <g id=\"text_6\">\n     <!-- Number of Rating Type -->\n     <defs>\n      <path d=\"M 44.921875 1.5625 \nL 35.15625 1.5625 \nL 13.671875 50 \nL 13.28125 50 \nL 13.28125 1.5625 \nL 4.296875 1.5625 \nL 4.296875 68.359375 \nL 14.0625 68.359375 \nL 35.546875 19.921875 \nL 35.9375 19.921875 \nL 35.9375 68.359375 \nL 44.921875 68.359375 \nz\n\" id=\"SimHei-78\"/>\n      <path d=\"M 44.140625 1.5625 \nL 36.328125 1.5625 \nL 36.328125 9.765625 \nQ 33.203125 5.46875 29.484375 3.125 \nQ 25.78125 0.78125 19.921875 0.78125 \nQ 12.890625 0.78125 9.375 4.6875 \nQ 5.859375 8.59375 5.859375 14.453125 \nL 5.859375 45.3125 \nL 13.671875 45.3125 \nL 13.671875 17.1875 \nQ 13.671875 12.5 16.015625 9.765625 \nQ 18.359375 7.03125 22.265625 7.03125 \nQ 27.34375 7.03125 31.828125 12.296875 \nQ 36.328125 17.578125 36.328125 25.390625 \nL 36.328125 45.3125 \nL 44.140625 45.3125 \nz\n\" id=\"SimHei-117\"/>\n      <path d=\"M 48.046875 1.5625 \nL 40.234375 1.5625 \nL 40.234375 33.203125 \nQ 40.234375 35.546875 39.453125 37.109375 \nQ 38.671875 38.671875 36.328125 38.671875 \nQ 33.59375 38.671875 31.25 35.734375 \nQ 28.90625 32.8125 28.90625 28.125 \nL 28.90625 1.5625 \nL 21.09375 1.5625 \nL 21.09375 33.203125 \nQ 21.09375 35.546875 20.3125 37.109375 \nQ 19.53125 38.671875 17.1875 38.671875 \nQ 14.453125 38.671875 12.109375 35.734375 \nQ 9.765625 32.8125 9.765625 28.125 \nL 9.765625 1.5625 \nL 1.953125 1.5625 \nL 1.953125 45.3125 \nL 9.765625 45.3125 \nL 9.765625 39.453125 \nQ 11.71875 42.578125 14.453125 44.328125 \nQ 17.1875 46.09375 20.3125 46.09375 \nQ 23.4375 46.09375 25.578125 44.328125 \nQ 27.734375 42.578125 28.515625 39.453125 \nQ 30.46875 42.578125 33 44.328125 \nQ 35.546875 46.09375 38.671875 46.09375 \nQ 43.359375 46.09375 45.703125 43.546875 \nQ 48.046875 41.015625 48.046875 36.328125 \nz\n\" id=\"SimHei-109\"/>\n      <path d=\"M 44.53125 23.4375 \nQ 44.53125 12.109375 39.0625 6.4375 \nQ 33.59375 0.78125 25.78125 0.78125 \nQ 21.484375 0.78125 18.359375 2.34375 \nQ 15.234375 3.90625 12.890625 7.421875 \nL 12.890625 1.5625 \nL 5.078125 1.5625 \nL 5.078125 68.359375 \nL 12.890625 68.359375 \nL 12.890625 39.453125 \nQ 15.234375 42.96875 18.359375 44.71875 \nQ 21.484375 46.484375 25.78125 46.484375 \nQ 33.59375 46.484375 39.0625 40.625 \nQ 44.53125 34.765625 44.53125 23.4375 \nz\nM 35.9375 23.4375 \nQ 35.9375 30.859375 33 35.15625 \nQ 30.078125 39.453125 24.21875 39.453125 \nQ 19.53125 39.453125 16.203125 35.15625 \nQ 12.890625 30.859375 12.890625 23.4375 \nQ 12.890625 16.015625 16.203125 11.90625 \nQ 19.53125 7.8125 24.21875 7.8125 \nQ 30.078125 7.8125 33 11.90625 \nQ 35.9375 16.015625 35.9375 23.4375 \nz\n\" id=\"SimHei-98\"/>\n      <path d=\"M 44.921875 16.40625 \nQ 44.140625 9.375 38.671875 5.078125 \nQ 33.203125 0.78125 25.78125 0.78125 \nQ 16.40625 0.78125 10.34375 6.828125 \nQ 4.296875 12.890625 4.296875 23.4375 \nQ 4.296875 33.984375 10.34375 40.03125 \nQ 16.40625 46.09375 25.78125 46.09375 \nQ 33.984375 46.09375 39.25 40.8125 \nQ 44.53125 35.546875 44.53125 23.4375 \nL 12.890625 23.4375 \nQ 12.890625 14.84375 16.59375 11.328125 \nQ 20.3125 7.8125 25.78125 7.8125 \nQ 30.078125 7.8125 32.8125 9.953125 \nQ 35.546875 12.109375 36.328125 16.40625 \nz\nM 35.546875 29.6875 \nQ 34.765625 35.15625 32.03125 37.296875 \nQ 29.296875 39.453125 25 39.453125 \nQ 21.09375 39.453125 17.96875 37.296875 \nQ 14.84375 35.15625 13.28125 29.6875 \nz\n\" id=\"SimHei-101\"/>\n      <path d=\"M 39.453125 37.5 \nQ 32.03125 38.671875 26.953125 35.34375 \nQ 21.875 32.03125 18.359375 23.828125 \nL 18.359375 1.5625 \nL 10.546875 1.5625 \nL 10.546875 45.3125 \nL 18.359375 45.3125 \nL 18.359375 33.984375 \nQ 21.875 40.234375 27.140625 43.15625 \nQ 32.421875 46.09375 39.453125 46.09375 \nz\n\" id=\"SimHei-114\"/>\n      <path id=\"SimHei-32\"/>\n      <path d=\"M 46.09375 23.4375 \nQ 46.09375 13.28125 39.84375 7.03125 \nQ 33.59375 0.78125 25 0.78125 \nQ 16.40625 0.78125 10.15625 7.03125 \nQ 3.90625 13.28125 3.90625 23.4375 \nQ 3.90625 33.59375 10.15625 39.84375 \nQ 16.40625 46.09375 25 46.09375 \nQ 33.59375 46.09375 39.84375 39.84375 \nQ 46.09375 33.59375 46.09375 23.4375 \nz\nM 37.5 23.4375 \nQ 37.5 31.25 33.59375 35.15625 \nQ 29.6875 39.0625 25 39.0625 \nQ 20.3125 39.0625 16.40625 35.15625 \nQ 12.5 31.25 12.5 23.4375 \nQ 12.5 15.625 16.40625 11.71875 \nQ 20.3125 7.8125 25 7.8125 \nQ 29.6875 7.8125 33.59375 11.71875 \nQ 37.5 15.625 37.5 23.4375 \nz\n\" id=\"SimHei-111\"/>\n      <path d=\"M 44.921875 59.375 \nQ 42.96875 60.546875 40.234375 61.328125 \nQ 37.5 62.109375 33.203125 62.109375 \nQ 28.90625 62.109375 27.34375 59.953125 \nQ 25.78125 57.8125 25.78125 54.6875 \nL 25.78125 45.3125 \nL 41.796875 45.3125 \nL 41.796875 39.0625 \nL 25.78125 39.0625 \nL 25.78125 1.5625 \nL 17.96875 1.5625 \nL 17.96875 39.0625 \nL 4.6875 39.0625 \nL 4.6875 45.3125 \nL 17.96875 45.3125 \nL 17.96875 54.296875 \nQ 17.96875 61.328125 22.265625 65.234375 \nQ 26.5625 69.140625 33.59375 69.140625 \nQ 37.890625 69.140625 40.421875 68.546875 \nQ 42.96875 67.96875 44.921875 67.1875 \nz\n\" id=\"SimHei-102\"/>\n      <path d=\"M 47.265625 1.5625 \nL 37.890625 1.5625 \nL 23.828125 30.46875 \nL 13.671875 30.46875 \nL 13.671875 1.5625 \nL 4.6875 1.5625 \nL 4.6875 68.359375 \nL 24.21875 68.359375 \nQ 33.59375 68.359375 39.453125 63.859375 \nQ 45.3125 59.375 45.3125 49.21875 \nQ 45.3125 41.40625 41.40625 37.109375 \nQ 37.5 32.8125 32.421875 31.640625 \nz\nM 36.328125 49.21875 \nQ 36.328125 54.6875 33 57.8125 \nQ 29.6875 60.9375 22.265625 60.9375 \nL 13.671875 60.9375 \nL 13.671875 37.890625 \nL 24.609375 37.890625 \nQ 29.296875 37.890625 32.8125 40.421875 \nQ 36.328125 42.96875 36.328125 49.21875 \nz\n\" id=\"SimHei-82\"/>\n      <path d=\"M 45.3125 1.5625 \nL 35.9375 1.5625 \nQ 35.15625 2.34375 34.765625 3.703125 \nQ 34.375 5.078125 34.375 7.03125 \nQ 31.640625 3.90625 27.734375 2.34375 \nQ 23.828125 0.78125 19.53125 0.78125 \nQ 13.28125 0.78125 8.984375 3.90625 \nQ 4.6875 7.03125 4.6875 12.890625 \nQ 4.6875 18.75 8.59375 22.265625 \nQ 12.5 25.78125 20.703125 26.953125 \nQ 26.171875 27.734375 30.265625 28.90625 \nQ 34.375 30.078125 34.375 32.03125 \nQ 34.375 34.375 32.609375 36.71875 \nQ 30.859375 39.0625 25 39.0625 \nQ 20.3125 39.0625 18.15625 37.296875 \nQ 16.015625 35.546875 15.234375 32.421875 \nL 6.640625 32.421875 \nQ 7.421875 38.671875 12.296875 42.375 \nQ 17.1875 46.09375 25 46.09375 \nQ 33.59375 46.09375 37.890625 42.1875 \nQ 42.1875 38.28125 42.1875 31.25 \nL 42.1875 9.765625 \nQ 42.1875 7.421875 42.96875 5.46875 \nQ 43.75 3.515625 45.3125 1.5625 \nz\nM 34.375 16.015625 \nL 34.375 23.828125 \nQ 32.03125 23.046875 29.875 22.453125 \nQ 27.734375 21.875 22.65625 21.09375 \nQ 16.796875 20.3125 15.03125 18.359375 \nQ 13.28125 16.40625 13.28125 13.671875 \nQ 13.28125 11.328125 15.03125 9.5625 \nQ 16.796875 7.8125 20.3125 7.8125 \nQ 23.828125 7.8125 27.921875 9.765625 \nQ 32.03125 11.71875 34.375 16.015625 \nz\n\" id=\"SimHei-97\"/>\n      <path d=\"M 43.359375 2.734375 \nQ 41.40625 1.953125 38.859375 1.359375 \nQ 36.328125 0.78125 32.03125 0.78125 \nQ 25 0.78125 20.703125 4.6875 \nQ 16.40625 8.59375 16.40625 15.625 \nL 16.40625 39.0625 \nL 3.125 39.0625 \nL 3.125 45.3125 \nL 16.40625 45.3125 \nL 16.40625 60.546875 \nL 24.21875 60.546875 \nL 24.21875 45.3125 \nL 40.234375 45.3125 \nL 40.234375 39.0625 \nL 24.21875 39.0625 \nL 24.21875 15.234375 \nQ 24.21875 12.109375 25.78125 9.953125 \nQ 27.34375 7.8125 31.640625 7.8125 \nQ 35.9375 7.8125 38.671875 8.59375 \nQ 41.40625 9.375 43.359375 10.546875 \nz\n\" id=\"SimHei-116\"/>\n      <path d=\"M 28.515625 57.8125 \nL 20.703125 57.8125 \nL 20.703125 67.96875 \nL 28.515625 67.96875 \nz\nM 28.515625 1.5625 \nL 20.703125 1.5625 \nL 20.703125 45.3125 \nL 28.515625 45.3125 \nz\n\" id=\"SimHei-105\"/>\n      <path d=\"M 44.140625 1.5625 \nL 36.328125 1.5625 \nL 36.328125 29.6875 \nQ 36.328125 34.375 33.984375 37.109375 \nQ 31.640625 39.84375 27.734375 39.84375 \nQ 22.65625 39.84375 18.15625 34.5625 \nQ 13.671875 29.296875 13.671875 21.484375 \nL 13.671875 1.5625 \nL 5.859375 1.5625 \nL 5.859375 45.3125 \nL 13.671875 45.3125 \nL 13.671875 37.109375 \nQ 16.796875 41.40625 20.5 43.75 \nQ 24.21875 46.09375 30.078125 46.09375 \nQ 37.109375 46.09375 40.625 42.1875 \nQ 44.140625 38.28125 44.140625 32.421875 \nz\n\" id=\"SimHei-110\"/>\n      <path d=\"M 46.875 38.671875 \nQ 44.140625 39.453125 41.59375 39.640625 \nQ 39.0625 39.84375 36.328125 39.0625 \nQ 37.5 37.890625 38.28125 36.125 \nQ 39.0625 34.375 39.0625 30.859375 \nQ 39.0625 24.21875 34.5625 19.921875 \nQ 30.078125 15.625 23.4375 15.625 \nQ 21.875 15.625 19.328125 16.203125 \nQ 16.796875 16.796875 15.234375 17.578125 \nQ 14.0625 16.796875 13.671875 16.015625 \nQ 13.28125 15.234375 13.28125 14.0625 \nQ 13.28125 12.109375 16.015625 11.125 \nQ 18.75 10.15625 25.78125 10.15625 \nQ 37.109375 10.15625 41.203125 7.03125 \nQ 45.3125 3.90625 45.3125 -0.78125 \nQ 45.3125 -7.03125 39.25 -9.953125 \nQ 33.203125 -12.890625 25 -12.890625 \nQ 14.453125 -12.890625 9.375 -10.15625 \nQ 4.296875 -7.421875 4.296875 -2.734375 \nQ 4.296875 -0.390625 6.25 1.953125 \nQ 8.203125 4.296875 11.328125 5.859375 \nQ 8.984375 7.03125 7.609375 8.78125 \nQ 6.25 10.546875 6.25 13.28125 \nQ 6.25 15.625 8 17.375 \nQ 9.765625 19.140625 12.109375 20.3125 \nQ 10.15625 22.265625 8.984375 25 \nQ 7.8125 27.734375 7.8125 30.859375 \nQ 7.8125 37.5 12.296875 41.796875 \nQ 16.796875 46.09375 23.4375 46.09375 \nQ 26.953125 46.09375 29.484375 45.109375 \nQ 32.03125 44.140625 33.984375 42.1875 \nQ 37.109375 44.53125 40.234375 45.5 \nQ 43.359375 46.484375 46.875 46.09375 \nz\nM 31.25 30.859375 \nQ 31.25 34.765625 29.296875 37.109375 \nQ 27.34375 39.453125 23.4375 39.453125 \nQ 19.53125 39.453125 17.578125 37.109375 \nQ 15.625 34.765625 15.625 30.859375 \nQ 15.625 26.953125 17.578125 24.609375 \nQ 19.53125 22.265625 23.4375 22.265625 \nQ 27.34375 22.265625 29.296875 24.609375 \nQ 31.25 26.953125 31.25 30.859375 \nz\nM 37.890625 -1.5625 \nQ 37.890625 0 36.125 1.5625 \nQ 34.375 3.125 27.34375 3.125 \nQ 25.78125 3.125 23.046875 3.3125 \nQ 20.3125 3.515625 16.796875 3.90625 \nQ 13.671875 2.734375 12.5 1.171875 \nQ 11.328125 -0.390625 11.328125 -1.953125 \nQ 11.328125 -4.296875 14.453125 -5.859375 \nQ 17.578125 -7.421875 25.390625 -7.421875 \nQ 32.03125 -7.421875 34.953125 -5.65625 \nQ 37.890625 -3.90625 37.890625 -1.5625 \nz\n\" id=\"SimHei-103\"/>\n      <path d=\"M 44.921875 60.9375 \nL 29.296875 60.9375 \nL 29.296875 1.5625 \nL 20.3125 1.5625 \nL 20.3125 60.9375 \nL 4.6875 60.9375 \nL 4.6875 68.359375 \nL 44.921875 68.359375 \nz\n\" id=\"SimHei-84\"/>\n      <path d=\"M 45.703125 45.3125 \nL 27.734375 -1.953125 \nQ 26.171875 -7.421875 23.046875 -10.15625 \nQ 19.921875 -12.890625 15.234375 -12.890625 \nQ 13.28125 -12.890625 11.515625 -12.6875 \nQ 9.765625 -12.5 8.203125 -11.71875 \nL 8.203125 -3.90625 \nQ 9.765625 -4.6875 11.328125 -5.078125 \nQ 12.890625 -5.46875 14.0625 -5.46875 \nQ 17.1875 -5.46875 18.359375 -4.484375 \nQ 19.53125 -3.515625 20.703125 0 \nL 3.515625 45.3125 \nL 12.109375 45.3125 \nL 24.609375 10.9375 \nL 25 10.9375 \nL 37.109375 45.3125 \nz\n\" id=\"SimHei-121\"/>\n      <path d=\"M 44.53125 23.4375 \nQ 44.53125 12.109375 39.0625 6.25 \nQ 33.59375 0.390625 25.78125 0.390625 \nQ 21.484375 0.390625 18.359375 2.140625 \nQ 15.234375 3.90625 12.890625 7.421875 \nL 12.890625 -12.890625 \nL 5.078125 -12.890625 \nL 5.078125 45.3125 \nL 12.890625 45.3125 \nL 12.890625 39.453125 \nQ 15.234375 42.96875 18.359375 44.53125 \nQ 21.484375 46.09375 25.78125 46.09375 \nQ 33.59375 46.09375 39.0625 40.421875 \nQ 44.53125 34.765625 44.53125 23.4375 \nz\nM 35.9375 23.4375 \nQ 35.9375 30.859375 33 34.953125 \nQ 30.078125 39.0625 24.21875 39.0625 \nQ 19.53125 39.0625 16.203125 34.953125 \nQ 12.890625 30.859375 12.890625 23.4375 \nQ 12.890625 16.015625 16.203125 11.71875 \nQ 19.53125 7.421875 24.21875 7.421875 \nQ 30.078125 7.421875 33 11.71875 \nQ 35.9375 16.015625 35.9375 23.4375 \nz\n\" id=\"SimHei-112\"/>\n     </defs>\n     <g transform=\"translate(144.1 250.679063)scale(0.1 -0.1)\">\n      <use xlink:href=\"#SimHei-78\"/>\n      <use x=\"50\" xlink:href=\"#SimHei-117\"/>\n      <use x=\"100\" xlink:href=\"#SimHei-109\"/>\n      <use x=\"150\" xlink:href=\"#SimHei-98\"/>\n      <use x=\"200\" xlink:href=\"#SimHei-101\"/>\n      <use x=\"250\" xlink:href=\"#SimHei-114\"/>\n      <use x=\"300\" xlink:href=\"#SimHei-32\"/>\n      <use x=\"350\" xlink:href=\"#SimHei-111\"/>\n      <use x=\"400\" xlink:href=\"#SimHei-102\"/>\n      <use x=\"450\" xlink:href=\"#SimHei-32\"/>\n      <use x=\"500\" xlink:href=\"#SimHei-82\"/>\n      <use x=\"550\" xlink:href=\"#SimHei-97\"/>\n      <use x=\"600\" xlink:href=\"#SimHei-116\"/>\n      <use x=\"650\" xlink:href=\"#SimHei-105\"/>\n      <use x=\"700\" xlink:href=\"#SimHei-110\"/>\n      <use x=\"750\" xlink:href=\"#SimHei-103\"/>\n      <use x=\"800\" xlink:href=\"#SimHei-32\"/>\n      <use x=\"850\" xlink:href=\"#SimHei-84\"/>\n      <use x=\"900\" xlink:href=\"#SimHei-121\"/>\n      <use x=\"950\" xlink:href=\"#SimHei-112\"/>\n      <use x=\"1000\" xlink:href=\"#SimHei-101\"/>\n     </g>\n    </g>\n   </g>\n   <g id=\"matplotlib.axis_2\">\n    <g id=\"ytick_1\">\n     <g id=\"line2d_6\">\n      <defs>\n       <path d=\"M 0 0 \nL -3.5 0 \n\" id=\"m12226a7dc1\" style=\"stroke:#000000;stroke-width:0.8;\"/>\n      </defs>\n      <g>\n       <use style=\"stroke:#000000;stroke-width:0.8;\" x=\"29.2\" xlink:href=\"#m12226a7dc1\" y=\"224.64\"/>\n      </g>\n     </g>\n     <g id=\"text_7\">\n      <!-- 0 -->\n      <defs>\n       <path d=\"M 46.484375 35.15625 \nQ 46.484375 21.09375 41.40625 10.9375 \nQ 36.328125 0.78125 25 0.78125 \nQ 13.671875 0.78125 8.390625 10.9375 \nQ 3.125 21.09375 3.125 35.15625 \nQ 3.125 49.21875 8.390625 59.171875 \nQ 13.671875 69.140625 25 69.140625 \nQ 36.328125 69.140625 41.40625 59.171875 \nQ 46.484375 49.21875 46.484375 35.15625 \nz\nM 37.109375 35.15625 \nQ 37.109375 47.65625 34.171875 54.6875 \nQ 31.25 61.71875 25 61.71875 \nQ 18.75 61.71875 15.625 54.6875 \nQ 12.5 47.65625 12.5 35.15625 \nQ 12.5 22.65625 15.625 15.421875 \nQ 18.75 8.203125 25 8.203125 \nQ 31.25 8.203125 34.171875 15.421875 \nQ 37.109375 22.65625 37.109375 35.15625 \nz\n\" id=\"SimHei-48\"/>\n      </defs>\n      <g transform=\"translate(17.2 228.057969)scale(0.1 -0.1)\">\n       <use xlink:href=\"#SimHei-48\"/>\n      </g>\n     </g>\n    </g>\n    <g id=\"ytick_2\">\n     <g id=\"line2d_7\">\n      <g>\n       <use style=\"stroke:#000000;stroke-width:0.8;\" x=\"29.2\" xlink:href=\"#m12226a7dc1\" y=\"195.717414\"/>\n      </g>\n     </g>\n     <g id=\"text_8\">\n      <!-- 25 -->\n      <g transform=\"translate(12.2 199.135383)scale(0.1 -0.1)\">\n       <use xlink:href=\"#SimHei-50\"/>\n       <use x=\"50\" xlink:href=\"#SimHei-53\"/>\n      </g>\n     </g>\n    </g>\n    <g id=\"ytick_3\">\n     <g id=\"line2d_8\">\n      <g>\n       <use style=\"stroke:#000000;stroke-width:0.8;\" x=\"29.2\" xlink:href=\"#m12226a7dc1\" y=\"166.794828\"/>\n      </g>\n     </g>\n     <g id=\"text_9\">\n      <!-- 50 -->\n      <g transform=\"translate(12.2 170.212797)scale(0.1 -0.1)\">\n       <use xlink:href=\"#SimHei-53\"/>\n       <use x=\"50\" xlink:href=\"#SimHei-48\"/>\n      </g>\n     </g>\n    </g>\n    <g id=\"ytick_4\">\n     <g id=\"line2d_9\">\n      <g>\n       <use style=\"stroke:#000000;stroke-width:0.8;\" x=\"29.2\" xlink:href=\"#m12226a7dc1\" y=\"137.872243\"/>\n      </g>\n     </g>\n     <g id=\"text_10\">\n      <!-- 75 -->\n      <defs>\n       <path d=\"M 43.359375 60.15625 \nL 25 1.5625 \nL 16.015625 1.5625 \nL 34.765625 60.9375 \nL 6.25 60.9375 \nL 6.25 68.359375 \nL 43.359375 68.359375 \nz\n\" id=\"SimHei-55\"/>\n      </defs>\n      <g transform=\"translate(12.2 141.290211)scale(0.1 -0.1)\">\n       <use xlink:href=\"#SimHei-55\"/>\n       <use x=\"50\" xlink:href=\"#SimHei-53\"/>\n      </g>\n     </g>\n    </g>\n    <g id=\"ytick_5\">\n     <g id=\"line2d_10\">\n      <g>\n       <use style=\"stroke:#000000;stroke-width:0.8;\" x=\"29.2\" xlink:href=\"#m12226a7dc1\" y=\"108.949657\"/>\n      </g>\n     </g>\n     <g id=\"text_11\">\n      <!-- 100 -->\n      <g transform=\"translate(7.2 112.367626)scale(0.1 -0.1)\">\n       <use xlink:href=\"#SimHei-49\"/>\n       <use x=\"50\" xlink:href=\"#SimHei-48\"/>\n       <use x=\"100\" xlink:href=\"#SimHei-48\"/>\n      </g>\n     </g>\n    </g>\n    <g id=\"ytick_6\">\n     <g id=\"line2d_11\">\n      <g>\n       <use style=\"stroke:#000000;stroke-width:0.8;\" x=\"29.2\" xlink:href=\"#m12226a7dc1\" y=\"80.027071\"/>\n      </g>\n     </g>\n     <g id=\"text_12\">\n      <!-- 125 -->\n      <g transform=\"translate(7.2 83.44504)scale(0.1 -0.1)\">\n       <use xlink:href=\"#SimHei-49\"/>\n       <use x=\"50\" xlink:href=\"#SimHei-50\"/>\n       <use x=\"100\" xlink:href=\"#SimHei-53\"/>\n      </g>\n     </g>\n    </g>\n    <g id=\"ytick_7\">\n     <g id=\"line2d_12\">\n      <g>\n       <use style=\"stroke:#000000;stroke-width:0.8;\" x=\"29.2\" xlink:href=\"#m12226a7dc1\" y=\"51.104485\"/>\n      </g>\n     </g>\n     <g id=\"text_13\">\n      <!-- 150 -->\n      <g transform=\"translate(7.2 54.522454)scale(0.1 -0.1)\">\n       <use xlink:href=\"#SimHei-49\"/>\n       <use x=\"50\" xlink:href=\"#SimHei-53\"/>\n       <use x=\"100\" xlink:href=\"#SimHei-48\"/>\n      </g>\n     </g>\n    </g>\n    <g id=\"ytick_8\">\n     <g id=\"line2d_13\">\n      <g>\n       <use style=\"stroke:#000000;stroke-width:0.8;\" x=\"29.2\" xlink:href=\"#m12226a7dc1\" y=\"22.181899\"/>\n      </g>\n     </g>\n     <g id=\"text_14\">\n      <!-- 175 -->\n      <g transform=\"translate(7.2 25.599868)scale(0.1 -0.1)\">\n       <use xlink:href=\"#SimHei-49\"/>\n       <use x=\"50\" xlink:href=\"#SimHei-55\"/>\n       <use x=\"100\" xlink:href=\"#SimHei-53\"/>\n      </g>\n     </g>\n    </g>\n   </g>\n   <g id=\"patch_8\">\n    <path d=\"M 29.2 224.64 \nL 29.2 7.2 \n\" style=\"fill:none;stroke:#000000;stroke-linecap:square;stroke-linejoin:miter;stroke-width:0.8;\"/>\n   </g>\n   <g id=\"patch_9\">\n    <path d=\"M 364 224.64 \nL 364 7.2 \n\" style=\"fill:none;stroke:#000000;stroke-linecap:square;stroke-linejoin:miter;stroke-width:0.8;\"/>\n   </g>\n   <g id=\"patch_10\">\n    <path d=\"M 29.2 224.64 \nL 364 224.64 \n\" style=\"fill:none;stroke:#000000;stroke-linecap:square;stroke-linejoin:miter;stroke-width:0.8;\"/>\n   </g>\n   <g id=\"patch_11\">\n    <path d=\"M 29.2 7.2 \nL 364 7.2 \n\" style=\"fill:none;stroke:#000000;stroke-linecap:square;stroke-linejoin:miter;stroke-width:0.8;\"/>\n   </g>\n   <g id=\"text_15\">\n    <!-- 15 -->\n    <g transform=\"translate(64.781818 205.997386)scale(0.1 -0.1)\">\n     <use xlink:href=\"#SimHei-49\"/>\n     <use x=\"50\" xlink:href=\"#SimHei-53\"/>\n    </g>\n   </g>\n   <g id=\"text_16\">\n    <!-- 179 -->\n    <defs>\n     <path d=\"M 44.140625 35.9375 \nQ 44.140625 19.921875 38.46875 10.34375 \nQ 32.8125 0.78125 22.265625 0.78125 \nQ 14.84375 0.78125 10.34375 6.25 \nQ 5.859375 11.71875 5.859375 18.359375 \nL 14.84375 18.359375 \nQ 14.84375 14.453125 16.984375 11.328125 \nQ 19.140625 8.203125 22.65625 8.203125 \nQ 28.515625 8.203125 31.4375 14.84375 \nQ 34.375 21.484375 35.15625 34.375 \nQ 33.203125 30.078125 29.6875 27.734375 \nQ 26.171875 25.390625 21.875 25.390625 \nQ 14.453125 25.390625 9.765625 30.859375 \nQ 5.078125 36.328125 5.078125 46.484375 \nQ 5.078125 56.640625 9.765625 62.890625 \nQ 14.453125 69.140625 23.828125 69.140625 \nQ 33.203125 69.140625 38.671875 61.328125 \nQ 44.140625 53.515625 44.140625 35.9375 \nz\nM 34.375 44.921875 \nQ 34.375 53.515625 31.4375 57.8125 \nQ 28.515625 62.109375 23.4375 62.109375 \nQ 19.921875 62.109375 17.1875 58.78125 \nQ 14.453125 55.46875 14.453125 46.484375 \nQ 14.453125 39.84375 16.59375 36.125 \nQ 18.75 32.421875 23.4375 32.421875 \nQ 28.515625 32.421875 31.4375 35.9375 \nQ 34.375 39.453125 34.375 44.921875 \nz\n\" id=\"SimHei-57\"/>\n    </defs>\n    <g transform=\"translate(125.690909 16.265223)scale(0.1 -0.1)\">\n     <use xlink:href=\"#SimHei-49\"/>\n     <use x=\"50\" xlink:href=\"#SimHei-55\"/>\n     <use x=\"100\" xlink:href=\"#SimHei-57\"/>\n    </g>\n   </g>\n   <g id=\"text_17\">\n    <!-- 156 -->\n    <defs>\n     <path d=\"M 44.53125 24.21875 \nQ 44.53125 13.28125 39.84375 7.03125 \nQ 35.15625 0.78125 25.78125 0.78125 \nQ 16.40625 0.78125 10.9375 8.59375 \nQ 5.46875 16.40625 5.46875 33.984375 \nQ 5.46875 50 11.125 59.5625 \nQ 16.796875 69.140625 27.34375 69.140625 \nQ 34.765625 69.140625 39.25 63.671875 \nQ 43.75 58.203125 43.75 51.5625 \nL 34.765625 51.5625 \nQ 34.765625 55.46875 32.609375 58.59375 \nQ 30.46875 61.71875 26.953125 61.71875 \nQ 21.09375 61.71875 17.96875 55.65625 \nQ 14.84375 49.609375 14.453125 37.109375 \nQ 17.1875 42.1875 20.3125 44.140625 \nQ 23.4375 46.09375 27.734375 46.09375 \nQ 35.15625 46.09375 39.84375 40.234375 \nQ 44.53125 34.375 44.53125 24.21875 \nz\nM 35.15625 24.21875 \nQ 35.15625 31.25 32.8125 35.15625 \nQ 30.46875 39.0625 26.171875 39.0625 \nQ 21.09375 39.0625 18.15625 35.15625 \nQ 15.234375 31.25 15.234375 25.78125 \nQ 15.234375 17.1875 18.15625 12.5 \nQ 21.09375 7.8125 26.171875 7.8125 \nQ 29.6875 7.8125 32.421875 11.328125 \nQ 35.15625 14.84375 35.15625 24.21875 \nz\n\" id=\"SimHei-54\"/>\n    </defs>\n    <g transform=\"translate(189.1 42.874002)scale(0.1 -0.1)\">\n     <use xlink:href=\"#SimHei-49\"/>\n     <use x=\"50\" xlink:href=\"#SimHei-53\"/>\n     <use x=\"100\" xlink:href=\"#SimHei-54\"/>\n    </g>\n   </g>\n   <g id=\"text_18\">\n    <!-- 137 -->\n    <g transform=\"translate(252.509091 64.855167)scale(0.1 -0.1)\">\n     <use xlink:href=\"#SimHei-49\"/>\n     <use x=\"50\" xlink:href=\"#SimHei-51\"/>\n     <use x=\"100\" xlink:href=\"#SimHei-55\"/>\n    </g>\n   </g>\n   <g id=\"text_19\">\n    <!-- 77 -->\n    <g transform=\"translate(318.418182 134.269373)scale(0.1 -0.1)\">\n     <use xlink:href=\"#SimHei-55\"/>\n     <use x=\"50\" xlink:href=\"#SimHei-55\"/>\n    </g>\n   </g>\n  </g>\n </g>\n <defs>\n  <clipPath id=\"p9a77019bfb\">\n   <rect height=\"217.44\" width=\"334.8\" x=\"29.2\" y=\"7.2\"/>\n  </clipPath>\n </defs>\n</svg>\n",
      "image/png": "[encoded data removed]"
     },
     "metadata": {
      "needs_background": "light"
     }
    }
   ],
   "source": [
    "# Unique Answer in finalUser\n",
    "ratingUnique = finalUser.groupby(['userId'])['rating'].nunique()\n",
    "\n",
    "# Plot unqiue number\n",
    "unqiueList = []\n",
    "for i in range(1, 6):\n",
    "    unqiueList.append(np.sum(ratingUnique == i))\n",
    "\n",
    "plt.bar(range(1,6), unqiueList)\n",
    "for x,y in zip(range(1,6), unqiueList):\n",
    "    plt.text(x, y, y, ha='center',va='bottom')\n",
    "plt.xlabel('Number of Rating Type')"
   ]
  },
  {
   "cell_type": "code",
   "execution_count": 68,
   "metadata": {},
   "outputs": [
    {
     "output_type": "stream",
     "name": "stderr",
     "text": [
      "/Users/pureblack/Library/Python/3.7/lib/python/site-packages/ipykernel_launcher.py:27: SettingWithCopyWarning: \nA value is trying to be set on a copy of a slice from a DataFrame.\nTry using .loc[row_indexer,col_indexer] = value instead\n\nSee the caveats in the documentation: https://pandas.pydata.org/pandas-docs/stable/user_guide/indexing.html#returning-a-view-versus-a-copy\n/Users/pureblack/Library/Python/3.7/lib/python/site-packages/ipykernel_launcher.py:28: SettingWithCopyWarning: \nA value is trying to be set on a copy of a slice from a DataFrame.\nTry using .loc[row_indexer,col_indexer] = value instead\n\nSee the caveats in the documentation: https://pandas.pydata.org/pandas-docs/stable/user_guide/indexing.html#returning-a-view-versus-a-copy\n/Users/pureblack/Library/Python/3.7/lib/python/site-packages/ipykernel_launcher.py:29: SettingWithCopyWarning: \nA value is trying to be set on a copy of a slice from a DataFrame.\nTry using .loc[row_indexer,col_indexer] = value instead\n\nSee the caveats in the documentation: https://pandas.pydata.org/pandas-docs/stable/user_guide/indexing.html#returning-a-view-versus-a-copy\n"
     ]
    }
   ],
   "source": [
    "# Map the reviewType and rating\n",
    "ratingMap = {\n",
    "    'Not Helpful At All': 1,\n",
    "    'Not Very Helpful': 2,\n",
    "    'Not Sure': 3,\n",
    "    'Somehow Helpful': 4,\n",
    "    'Very Helpful': 5\n",
    "}\n",
    "authMap = {\n",
    "    'r1': -1,\n",
    "    'r2': -1,\n",
    "    'r3': 0,\n",
    "    'r4': 0,\n",
    "    'r5': 1,\n",
    "    'r6': 1\n",
    "}\n",
    "\n",
    "verifyMap = {\n",
    "    'r1': 1,\n",
    "    'r2': 0,\n",
    "    'r3': 1,\n",
    "    'r4': 0,\n",
    "    'r5': 1,\n",
    "    'r6': 0\n",
    "}\n",
    "\n",
    "finalUser['authenticity'] = finalUser.loc[:, 'reviewType'].apply(lambda x: authMap[x])\n",
    "finalUser['verified'] = finalUser.loc[:, 'reviewType'].apply(lambda x: verifyMap[x])\n",
    "finalUser['rating_score'] = finalUser.loc[:, 'rating'].apply(lambda x: ratingMap[x])\n",
    "finalUser = finalUser.sort_values(by='userId', ascending= True)"
   ]
  },
  {
   "cell_type": "code",
   "execution_count": 69,
   "metadata": {},
   "outputs": [
    {
     "output_type": "execute_result",
     "data": {
      "text/plain": [
       "               id  userId productId reviewType              rating  age  \\\n",
       "0    191      156       1        p1         r6     Somehow Helpful   40   \n",
       "     190      155       1        p1         r5     Somehow Helpful   40   \n",
       "     189      154       1        p1         r4  Not Helpful At All   40   \n",
       "     188      153       1        p1         r3     Somehow Helpful   40   \n",
       "     187      152       1        p1         r2     Somehow Helpful   40   \n",
       "...           ...     ...       ...        ...                 ...  ...   \n",
       "5579 38886  38887     870        p9         r1     Somehow Helpful   30   \n",
       "     38887  38888     870        p9         r2            Not Sure   30   \n",
       "     38888  38889     870        p9         r3     Somehow Helpful   30   \n",
       "     38890  38891     870        p9         r5            Not Sure   30   \n",
       "     38891  38892     870        p9         r6     Somehow Helpful   30   \n",
       "\n",
       "            gender      use_amazon      read_review              created  \\\n",
       "0    191      male  use_amazon-yes  read_review-yes  2021-04-13 15:50:52   \n",
       "     190      male  use_amazon-yes  read_review-yes  2021-04-13 15:50:52   \n",
       "     189      male  use_amazon-yes  read_review-yes  2021-04-13 15:50:52   \n",
       "     188      male  use_amazon-yes  read_review-yes  2021-04-13 15:50:52   \n",
       "     187      male  use_amazon-yes  read_review-yes  2021-04-13 15:50:52   \n",
       "...            ...             ...              ...                  ...   \n",
       "5579 38886  female  use_amazon-yes  read_review-yes  2021-04-26 01:10:14   \n",
       "     38887  female  use_amazon-yes  read_review-yes  2021-04-26 01:10:14   \n",
       "     38888  female  use_amazon-yes  read_review-yes  2021-04-26 01:10:14   \n",
       "     38890  female  use_amazon-yes  read_review-yes  2021-04-26 01:10:14   \n",
       "     38891  female  use_amazon-yes  read_review-yes  2021-04-26 01:10:14   \n",
       "\n",
       "            authenticity  verified  rating_score  \n",
       "0    191               1         0             4  \n",
       "     190               1         1             4  \n",
       "     189               0         0             1  \n",
       "     188               0         1             4  \n",
       "     187              -1         0             4  \n",
       "...                  ...       ...           ...  \n",
       "5579 38886            -1         1             4  \n",
       "     38887            -1         0             3  \n",
       "     38888             0         1             4  \n",
       "     38890             1         1             3  \n",
       "     38891             1         0             4  \n",
       "\n",
       "[33480 rows x 13 columns]"
      ],
      "text/html": "<div>\n<style scoped>\n    .dataframe tbody tr th:only-of-type {\n        vertical-align: middle;\n    }\n\n    .dataframe tbody tr th {\n        vertical-align: top;\n    }\n\n    .dataframe thead th {\n        text-align: right;\n    }\n</style>\n<table border=\"1\" class=\"dataframe\">\n  <thead>\n    <tr style=\"text-align: right;\">\n      <th></th>\n      <th></th>\n      <th>id</th>\n      <th>userId</th>\n      <th>productId</th>\n      <th>reviewType</th>\n      <th>rating</th>\n      <th>age</th>\n      <th>gender</th>\n      <th>use_amazon</th>\n      <th>read_review</th>\n      <th>created</th>\n      <th>authenticity</th>\n      <th>verified</th>\n      <th>rating_score</th>\n    </tr>\n  </thead>\n  <tbody>\n    <tr>\n      <th rowspan=\"5\" valign=\"top\">0</th>\n      <th>191</th>\n      <td>156</td>\n      <td>1</td>\n      <td>p1</td>\n      <td>r6</td>\n      <td>Somehow Helpful</td>\n      <td>40</td>\n      <td>male</td>\n      <td>use_amazon-yes</td>\n      <td>read_review-yes</td>\n      <td>2021-04-13 15:50:52</td>\n      <td>1</td>\n      <td>0</td>\n      <td>4</td>\n    </tr>\n    <tr>\n      <th>190</th>\n      <td>155</td>\n      <td>1</td>\n      <td>p1</td>\n      <td>r5</td>\n      <td>Somehow Helpful</td>\n      <td>40</td>\n      <td>male</td>\n      <td>use_amazon-yes</td>\n      <td>read_review-yes</td>\n      <td>2021-04-13 15:50:52</td>\n      <td>1</td>\n      <td>1</td>\n      <td>4</td>\n    </tr>\n    <tr>\n      <th>189</th>\n      <td>154</td>\n      <td>1</td>\n      <td>p1</td>\n      <td>r4</td>\n      <td>Not Helpful At All</td>\n      <td>40</td>\n      <td>male</td>\n      <td>use_amazon-yes</td>\n      <td>read_review-yes</td>\n      <td>2021-04-13 15:50:52</td>\n      <td>0</td>\n      <td>0</td>\n      <td>1</td>\n    </tr>\n    <tr>\n      <th>188</th>\n      <td>153</td>\n      <td>1</td>\n      <td>p1</td>\n      <td>r3</td>\n      <td>Somehow Helpful</td>\n      <td>40</td>\n      <td>male</td>\n      <td>use_amazon-yes</td>\n      <td>read_review-yes</td>\n      <td>2021-04-13 15:50:52</td>\n      <td>0</td>\n      <td>1</td>\n      <td>4</td>\n    </tr>\n    <tr>\n      <th>187</th>\n      <td>152</td>\n      <td>1</td>\n      <td>p1</td>\n      <td>r2</td>\n      <td>Somehow Helpful</td>\n      <td>40</td>\n      <td>male</td>\n      <td>use_amazon-yes</td>\n      <td>read_review-yes</td>\n      <td>2021-04-13 15:50:52</td>\n      <td>-1</td>\n      <td>0</td>\n      <td>4</td>\n    </tr>\n    <tr>\n      <th>...</th>\n      <th>...</th>\n      <td>...</td>\n      <td>...</td>\n      <td>...</td>\n      <td>...</td>\n      <td>...</td>\n      <td>...</td>\n      <td>...</td>\n      <td>...</td>\n      <td>...</td>\n      <td>...</td>\n      <td>...</td>\n      <td>...</td>\n      <td>...</td>\n    </tr>\n    <tr>\n      <th rowspan=\"5\" valign=\"top\">5579</th>\n      <th>38886</th>\n      <td>38887</td>\n      <td>870</td>\n      <td>p9</td>\n      <td>r1</td>\n      <td>Somehow Helpful</td>\n      <td>30</td>\n      <td>female</td>\n      <td>use_amazon-yes</td>\n      <td>read_review-yes</td>\n      <td>2021-04-26 01:10:14</td>\n      <td>-1</td>\n      <td>1</td>\n      <td>4</td>\n    </tr>\n    <tr>\n      <th>38887</th>\n      <td>38888</td>\n      <td>870</td>\n      <td>p9</td>\n      <td>r2</td>\n      <td>Not Sure</td>\n      <td>30</td>\n      <td>female</td>\n      <td>use_amazon-yes</td>\n      <td>read_review-yes</td>\n      <td>2021-04-26 01:10:14</td>\n      <td>-1</td>\n      <td>0</td>\n      <td>3</td>\n    </tr>\n    <tr>\n      <th>38888</th>\n      <td>38889</td>\n      <td>870</td>\n      <td>p9</td>\n      <td>r3</td>\n      <td>Somehow Helpful</td>\n      <td>30</td>\n      <td>female</td>\n      <td>use_amazon-yes</td>\n      <td>read_review-yes</td>\n      <td>2021-04-26 01:10:14</td>\n      <td>0</td>\n      <td>1</td>\n      <td>4</td>\n    </tr>\n    <tr>\n      <th>38890</th>\n      <td>38891</td>\n      <td>870</td>\n      <td>p9</td>\n      <td>r5</td>\n      <td>Not Sure</td>\n      <td>30</td>\n      <td>female</td>\n      <td>use_amazon-yes</td>\n      <td>read_review-yes</td>\n      <td>2021-04-26 01:10:14</td>\n      <td>1</td>\n      <td>1</td>\n      <td>3</td>\n    </tr>\n    <tr>\n      <th>38891</th>\n      <td>38892</td>\n      <td>870</td>\n      <td>p9</td>\n      <td>r6</td>\n      <td>Somehow Helpful</td>\n      <td>30</td>\n      <td>female</td>\n      <td>use_amazon-yes</td>\n      <td>read_review-yes</td>\n      <td>2021-04-26 01:10:14</td>\n      <td>1</td>\n      <td>0</td>\n      <td>4</td>\n    </tr>\n  </tbody>\n</table>\n<p>33480 rows × 13 columns</p>\n</div>"
     },
     "metadata": {},
     "execution_count": 69
    }
   ],
   "source": [
    "# Sort user who submit multiple answers for same product \n",
    "Qual = finalUser.groupby('userId')['productId'].nunique() == 10\n",
    "QualList = Qual[Qual].index.to_list()\n",
    "finalUser = finalUser[finalUser.userId.isin(QualList)]\n",
    "\n",
    "# Filter user who submit multiple answers\n",
    "finalUser = finalUser.groupby(['userId', 'productId'], as_index=False).apply(lambda df: df.drop_duplicates(\"reviewType\"))\n",
    "finalUser"
   ]
  },
  {
   "cell_type": "code",
   "execution_count": 70,
   "metadata": {
    "tags": []
   },
   "outputs": [
    {
     "output_type": "stream",
     "name": "stdout",
     "text": [
      "202\n[1, 2, 4, 8, 10, 11, 12, 18, 33, 35, 38, 47, 64, 68, 69, 73, 74, 76, 78, 80, 84, 85, 86, 94, 98, 99, 102, 110, 115, 117, 119, 120, 124, 134, 140, 142, 148, 159, 163, 168, 176, 177, 184, 192, 203, 211, 242, 245, 248, 257, 265, 271, 273, 274, 276, 277, 285, 288, 290, 298, 301, 304, 306, 318, 319, 332, 344, 357, 359, 365, 369, 370, 375, 377, 382, 385, 387, 390, 392, 397, 398, 409, 413, 417, 421, 422, 423, 430, 432, 436, 438, 440, 445, 448, 449, 451, 454, 460, 472, 498, 503, 505, 506, 512, 516, 520, 524, 529, 535, 543, 545, 546, 547, 555, 556, 560, 562, 567, 569, 570, 576, 581, 582, 585, 589, 595, 596, 604, 609, 610, 618, 620, 621, 624, 628, 633, 640, 643, 646, 651, 653, 655, 656, 661, 665, 672, 674, 675, 680, 687, 692, 693, 694, 696, 697, 700, 705, 706, 707, 710, 712, 713, 716, 720, 721, 727, 730, 733, 738, 740, 741, 751, 761, 762, 764, 770, 772, 774, 775, 777, 778, 783, 786, 787, 791, 793, 795, 803, 809, 812, 821, 822, 824, 827, 828, 830, 831, 834, 835, 837, 838, 843, 845, 848, 850, 851, 854, 856, 857, 858, 859, 862]\n"
     ]
    }
   ],
   "source": [
    "# Setting the percentage for the rule \n",
    "PERCENT_PRODUCT = 0.5\n",
    "\n",
    "# Filter user who not read question but give answers product >=3 \n",
    "uniAnwser = finalUser.groupby(['userId', 'productId'], as_index=False)['rating'].nunique()\n",
    "uniAnwser = uniAnwser[uniAnwser.rating >= 3]\n",
    "groupUniAns = uniAnwser.groupby(['userId']).count()\n",
    "qualGroupList1 = groupUniAns[(groupUniAns.productId / 10) >= PERCENT_PRODUCT].index.to_list()\n",
    "print(len(qualGroupList1))\n",
    "\n",
    "# For final user who's rating >=4\n",
    "qualGroupList2 = finalUser.groupby(['userId'])['rating'].nunique()\n",
    "qualGroupList2 = qualGroupList2[qualGroupList2 >= 4].index.to_list()\n",
    "print(qualGroupList2)\n",
    "\n",
    "# Top 8 remain\n",
    "PERCENT_PRODUCT = 0.4\n",
    "uniAnwser = finalUser.groupby(['userId', 'productId'], as_index=False)['rating'].nunique()\n",
    "uniAnwser = uniAnwser[uniAnwser.rating >= 3]\n",
    "groupUniAns = uniAnwser.groupby(['userId']).count()\n",
    "qualGroupList3 = groupUniAns[(groupUniAns.productId / 10) == PERCENT_PRODUCT].index.to_list()[:8]\n",
    "\n",
    "# Get new data \n",
    "finalUser = finalUser[finalUser.userId.isin(qualGroupList1) & finalUser.userId.isin(qualGroupList2) |                     finalUser.userId.isin(qualGroupList3)]"
   ]
  },
  {
   "cell_type": "code",
   "execution_count": 71,
   "metadata": {},
   "outputs": [
    {
     "output_type": "execute_result",
     "data": {
      "text/plain": [
       "               id  userId productId reviewType              rating  age  \\\n",
       "0    191      156       1        p1         r6     Somehow Helpful   40   \n",
       "     190      155       1        p1         r5     Somehow Helpful   40   \n",
       "     189      154       1        p1         r4  Not Helpful At All   40   \n",
       "     188      153       1        p1         r3     Somehow Helpful   40   \n",
       "     187      152       1        p1         r2     Somehow Helpful   40   \n",
       "...           ...     ...       ...        ...                 ...  ...   \n",
       "5549 38654  38655     862        p9         r3     Somehow Helpful   37   \n",
       "     38653  38654     862        p9         r2            Not Sure   37   \n",
       "     38652  38653     862        p9         r1    Not Very Helpful   37   \n",
       "     38651  38652     862        p9         r6     Somehow Helpful   37   \n",
       "     38650  38651     862        p9         r5            Not Sure   37   \n",
       "\n",
       "           gender      use_amazon      read_review              created  \\\n",
       "0    191     male  use_amazon-yes  read_review-yes  2021-04-13 15:50:52   \n",
       "     190     male  use_amazon-yes  read_review-yes  2021-04-13 15:50:52   \n",
       "     189     male  use_amazon-yes  read_review-yes  2021-04-13 15:50:52   \n",
       "     188     male  use_amazon-yes  read_review-yes  2021-04-13 15:50:52   \n",
       "     187     male  use_amazon-yes  read_review-yes  2021-04-13 15:50:52   \n",
       "...           ...             ...              ...                  ...   \n",
       "5549 38654   male  use_amazon-yes  read_review-yes  2021-04-25 23:46:51   \n",
       "     38653   male  use_amazon-yes  read_review-yes  2021-04-25 23:46:51   \n",
       "     38652   male  use_amazon-yes  read_review-yes  2021-04-25 23:46:51   \n",
       "     38651   male  use_amazon-yes  read_review-yes  2021-04-25 23:46:51   \n",
       "     38650   male  use_amazon-yes  read_review-yes  2021-04-25 23:46:51   \n",
       "\n",
       "            authenticity  verified  rating_score  \n",
       "0    191               1         0             4  \n",
       "     190               1         1             4  \n",
       "     189               0         0             1  \n",
       "     188               0         1             4  \n",
       "     187              -1         0             4  \n",
       "...                  ...       ...           ...  \n",
       "5549 38654             0         1             4  \n",
       "     38653            -1         0             3  \n",
       "     38652            -1         1             2  \n",
       "     38651             1         0             4  \n",
       "     38650             1         1             3  \n",
       "\n",
       "[9720 rows x 13 columns]"
      ],
      "text/html": "<div>\n<style scoped>\n    .dataframe tbody tr th:only-of-type {\n        vertical-align: middle;\n    }\n\n    .dataframe tbody tr th {\n        vertical-align: top;\n    }\n\n    .dataframe thead th {\n        text-align: right;\n    }\n</style>\n<table border=\"1\" class=\"dataframe\">\n  <thead>\n    <tr style=\"text-align: right;\">\n      <th></th>\n      <th></th>\n      <th>id</th>\n      <th>userId</th>\n      <th>productId</th>\n      <th>reviewType</th>\n      <th>rating</th>\n      <th>age</th>\n      <th>gender</th>\n      <th>use_amazon</th>\n      <th>read_review</th>\n      <th>created</th>\n      <th>authenticity</th>\n      <th>verified</th>\n      <th>rating_score</th>\n    </tr>\n  </thead>\n  <tbody>\n    <tr>\n      <th rowspan=\"5\" valign=\"top\">0</th>\n      <th>191</th>\n      <td>156</td>\n      <td>1</td>\n      <td>p1</td>\n      <td>r6</td>\n      <td>Somehow Helpful</td>\n      <td>40</td>\n      <td>male</td>\n      <td>use_amazon-yes</td>\n      <td>read_review-yes</td>\n      <td>2021-04-13 15:50:52</td>\n      <td>1</td>\n      <td>0</td>\n      <td>4</td>\n    </tr>\n    <tr>\n      <th>190</th>\n      <td>155</td>\n      <td>1</td>\n      <td>p1</td>\n      <td>r5</td>\n      <td>Somehow Helpful</td>\n      <td>40</td>\n      <td>male</td>\n      <td>use_amazon-yes</td>\n      <td>read_review-yes</td>\n      <td>2021-04-13 15:50:52</td>\n      <td>1</td>\n      <td>1</td>\n      <td>4</td>\n    </tr>\n    <tr>\n      <th>189</th>\n      <td>154</td>\n      <td>1</td>\n      <td>p1</td>\n      <td>r4</td>\n      <td>Not Helpful At All</td>\n      <td>40</td>\n      <td>male</td>\n      <td>use_amazon-yes</td>\n      <td>read_review-yes</td>\n      <td>2021-04-13 15:50:52</td>\n      <td>0</td>\n      <td>0</td>\n      <td>1</td>\n    </tr>\n    <tr>\n      <th>188</th>\n      <td>153</td>\n      <td>1</td>\n      <td>p1</td>\n      <td>r3</td>\n      <td>Somehow Helpful</td>\n      <td>40</td>\n      <td>male</td>\n      <td>use_amazon-yes</td>\n      <td>read_review-yes</td>\n      <td>2021-04-13 15:50:52</td>\n      <td>0</td>\n      <td>1</td>\n      <td>4</td>\n    </tr>\n    <tr>\n      <th>187</th>\n      <td>152</td>\n      <td>1</td>\n      <td>p1</td>\n      <td>r2</td>\n      <td>Somehow Helpful</td>\n      <td>40</td>\n      <td>male</td>\n      <td>use_amazon-yes</td>\n      <td>read_review-yes</td>\n      <td>2021-04-13 15:50:52</td>\n      <td>-1</td>\n      <td>0</td>\n      <td>4</td>\n    </tr>\n    <tr>\n      <th>...</th>\n      <th>...</th>\n      <td>...</td>\n      <td>...</td>\n      <td>...</td>\n      <td>...</td>\n      <td>...</td>\n      <td>...</td>\n      <td>...</td>\n      <td>...</td>\n      <td>...</td>\n      <td>...</td>\n      <td>...</td>\n      <td>...</td>\n      <td>...</td>\n    </tr>\n    <tr>\n      <th rowspan=\"5\" valign=\"top\">5549</th>\n      <th>38654</th>\n      <td>38655</td>\n      <td>862</td>\n      <td>p9</td>\n      <td>r3</td>\n      <td>Somehow Helpful</td>\n      <td>37</td>\n      <td>male</td>\n      <td>use_amazon-yes</td>\n      <td>read_review-yes</td>\n      <td>2021-04-25 23:46:51</td>\n      <td>0</td>\n      <td>1</td>\n      <td>4</td>\n    </tr>\n    <tr>\n      <th>38653</th>\n      <td>38654</td>\n      <td>862</td>\n      <td>p9</td>\n      <td>r2</td>\n      <td>Not Sure</td>\n      <td>37</td>\n      <td>male</td>\n      <td>use_amazon-yes</td>\n      <td>read_review-yes</td>\n      <td>2021-04-25 23:46:51</td>\n      <td>-1</td>\n      <td>0</td>\n      <td>3</td>\n    </tr>\n    <tr>\n      <th>38652</th>\n      <td>38653</td>\n      <td>862</td>\n      <td>p9</td>\n      <td>r1</td>\n      <td>Not Very Helpful</td>\n      <td>37</td>\n      <td>male</td>\n      <td>use_amazon-yes</td>\n      <td>read_review-yes</td>\n      <td>2021-04-25 23:46:51</td>\n      <td>-1</td>\n      <td>1</td>\n      <td>2</td>\n    </tr>\n    <tr>\n      <th>38651</th>\n      <td>38652</td>\n      <td>862</td>\n      <td>p9</td>\n      <td>r6</td>\n      <td>Somehow Helpful</td>\n      <td>37</td>\n      <td>male</td>\n      <td>use_amazon-yes</td>\n      <td>read_review-yes</td>\n      <td>2021-04-25 23:46:51</td>\n      <td>1</td>\n      <td>0</td>\n      <td>4</td>\n    </tr>\n    <tr>\n      <th>38650</th>\n      <td>38651</td>\n      <td>862</td>\n      <td>p9</td>\n      <td>r5</td>\n      <td>Not Sure</td>\n      <td>37</td>\n      <td>male</td>\n      <td>use_amazon-yes</td>\n      <td>read_review-yes</td>\n      <td>2021-04-25 23:46:51</td>\n      <td>1</td>\n      <td>1</td>\n      <td>3</td>\n    </tr>\n  </tbody>\n</table>\n<p>9720 rows × 13 columns</p>\n</div>"
     },
     "metadata": {},
     "execution_count": 71
    }
   ],
   "source": [
    "finalUser"
   ]
  },
  {
   "cell_type": "code",
   "execution_count": 72,
   "metadata": {},
   "outputs": [
    {
     "output_type": "execute_result",
     "data": {
      "text/plain": [
       "162"
      ]
     },
     "metadata": {},
     "execution_count": 72
    }
   ],
   "source": [
    "finalUser.userId.nunique()"
   ]
  },
  {
   "cell_type": "code",
   "execution_count": 73,
   "metadata": {},
   "outputs": [],
   "source": [
    "finalUser = finalUser.drop('id', axis=1)\n",
    "finalUser.to_csv('./output_170.csv', index=False)"
   ]
  },
  {
   "cell_type": "code",
   "execution_count": 74,
   "metadata": {},
   "outputs": [
    {
     "output_type": "execute_result",
     "data": {
      "text/plain": [
       "            userId productId reviewType              rating  age gender  \\\n",
       "0    191         1        p1         r6     Somehow Helpful   40   male   \n",
       "     190         1        p1         r5     Somehow Helpful   40   male   \n",
       "     189         1        p1         r4  Not Helpful At All   40   male   \n",
       "     188         1        p1         r3     Somehow Helpful   40   male   \n",
       "     187         1        p1         r2     Somehow Helpful   40   male   \n",
       "...            ...       ...        ...                 ...  ...    ...   \n",
       "5549 38654     862        p9         r3     Somehow Helpful   37   male   \n",
       "     38653     862        p9         r2            Not Sure   37   male   \n",
       "     38652     862        p9         r1    Not Very Helpful   37   male   \n",
       "     38651     862        p9         r6     Somehow Helpful   37   male   \n",
       "     38650     862        p9         r5            Not Sure   37   male   \n",
       "\n",
       "                use_amazon      read_review              created  \\\n",
       "0    191    use_amazon-yes  read_review-yes  2021-04-13 15:50:52   \n",
       "     190    use_amazon-yes  read_review-yes  2021-04-13 15:50:52   \n",
       "     189    use_amazon-yes  read_review-yes  2021-04-13 15:50:52   \n",
       "     188    use_amazon-yes  read_review-yes  2021-04-13 15:50:52   \n",
       "     187    use_amazon-yes  read_review-yes  2021-04-13 15:50:52   \n",
       "...                    ...              ...                  ...   \n",
       "5549 38654  use_amazon-yes  read_review-yes  2021-04-25 23:46:51   \n",
       "     38653  use_amazon-yes  read_review-yes  2021-04-25 23:46:51   \n",
       "     38652  use_amazon-yes  read_review-yes  2021-04-25 23:46:51   \n",
       "     38651  use_amazon-yes  read_review-yes  2021-04-25 23:46:51   \n",
       "     38650  use_amazon-yes  read_review-yes  2021-04-25 23:46:51   \n",
       "\n",
       "            authenticity  verified  rating_score  \n",
       "0    191               1         0             4  \n",
       "     190               1         1             4  \n",
       "     189               0         0             1  \n",
       "     188               0         1             4  \n",
       "     187              -1         0             4  \n",
       "...                  ...       ...           ...  \n",
       "5549 38654             0         1             4  \n",
       "     38653            -1         0             3  \n",
       "     38652            -1         1             2  \n",
       "     38651             1         0             4  \n",
       "     38650             1         1             3  \n",
       "\n",
       "[9720 rows x 12 columns]"
      ],
      "text/html": "<div>\n<style scoped>\n    .dataframe tbody tr th:only-of-type {\n        vertical-align: middle;\n    }\n\n    .dataframe tbody tr th {\n        vertical-align: top;\n    }\n\n    .dataframe thead th {\n        text-align: right;\n    }\n</style>\n<table border=\"1\" class=\"dataframe\">\n  <thead>\n    <tr style=\"text-align: right;\">\n      <th></th>\n      <th></th>\n      <th>userId</th>\n      <th>productId</th>\n      <th>reviewType</th>\n      <th>rating</th>\n      <th>age</th>\n      <th>gender</th>\n      <th>use_amazon</th>\n      <th>read_review</th>\n      <th>created</th>\n      <th>authenticity</th>\n      <th>verified</th>\n      <th>rating_score</th>\n    </tr>\n  </thead>\n  <tbody>\n    <tr>\n      <th rowspan=\"5\" valign=\"top\">0</th>\n      <th>191</th>\n      <td>1</td>\n      <td>p1</td>\n      <td>r6</td>\n      <td>Somehow Helpful</td>\n      <td>40</td>\n      <td>male</td>\n      <td>use_amazon-yes</td>\n      <td>read_review-yes</td>\n      <td>2021-04-13 15:50:52</td>\n      <td>1</td>\n      <td>0</td>\n      <td>4</td>\n    </tr>\n    <tr>\n      <th>190</th>\n      <td>1</td>\n      <td>p1</td>\n      <td>r5</td>\n      <td>Somehow Helpful</td>\n      <td>40</td>\n      <td>male</td>\n      <td>use_amazon-yes</td>\n      <td>read_review-yes</td>\n      <td>2021-04-13 15:50:52</td>\n      <td>1</td>\n      <td>1</td>\n      <td>4</td>\n    </tr>\n    <tr>\n      <th>189</th>\n      <td>1</td>\n      <td>p1</td>\n      <td>r4</td>\n      <td>Not Helpful At All</td>\n      <td>40</td>\n      <td>male</td>\n      <td>use_amazon-yes</td>\n      <td>read_review-yes</td>\n      <td>2021-04-13 15:50:52</td>\n      <td>0</td>\n      <td>0</td>\n      <td>1</td>\n    </tr>\n    <tr>\n      <th>188</th>\n      <td>1</td>\n      <td>p1</td>\n      <td>r3</td>\n      <td>Somehow Helpful</td>\n      <td>40</td>\n      <td>male</td>\n      <td>use_amazon-yes</td>\n      <td>read_review-yes</td>\n      <td>2021-04-13 15:50:52</td>\n      <td>0</td>\n      <td>1</td>\n      <td>4</td>\n    </tr>\n    <tr>\n      <th>187</th>\n      <td>1</td>\n      <td>p1</td>\n      <td>r2</td>\n      <td>Somehow Helpful</td>\n      <td>40</td>\n      <td>male</td>\n      <td>use_amazon-yes</td>\n      <td>read_review-yes</td>\n      <td>2021-04-13 15:50:52</td>\n      <td>-1</td>\n      <td>0</td>\n      <td>4</td>\n    </tr>\n    <tr>\n      <th>...</th>\n      <th>...</th>\n      <td>...</td>\n      <td>...</td>\n      <td>...</td>\n      <td>...</td>\n      <td>...</td>\n      <td>...</td>\n      <td>...</td>\n      <td>...</td>\n      <td>...</td>\n      <td>...</td>\n      <td>...</td>\n      <td>...</td>\n    </tr>\n    <tr>\n      <th rowspan=\"5\" valign=\"top\">5549</th>\n      <th>38654</th>\n      <td>862</td>\n      <td>p9</td>\n      <td>r3</td>\n      <td>Somehow Helpful</td>\n      <td>37</td>\n      <td>male</td>\n      <td>use_amazon-yes</td>\n      <td>read_review-yes</td>\n      <td>2021-04-25 23:46:51</td>\n      <td>0</td>\n      <td>1</td>\n      <td>4</td>\n    </tr>\n    <tr>\n      <th>38653</th>\n      <td>862</td>\n      <td>p9</td>\n      <td>r2</td>\n      <td>Not Sure</td>\n      <td>37</td>\n      <td>male</td>\n      <td>use_amazon-yes</td>\n      <td>read_review-yes</td>\n      <td>2021-04-25 23:46:51</td>\n      <td>-1</td>\n      <td>0</td>\n      <td>3</td>\n    </tr>\n    <tr>\n      <th>38652</th>\n      <td>862</td>\n      <td>p9</td>\n      <td>r1</td>\n      <td>Not Very Helpful</td>\n      <td>37</td>\n      <td>male</td>\n      <td>use_amazon-yes</td>\n      <td>read_review-yes</td>\n      <td>2021-04-25 23:46:51</td>\n      <td>-1</td>\n      <td>1</td>\n      <td>2</td>\n    </tr>\n    <tr>\n      <th>38651</th>\n      <td>862</td>\n      <td>p9</td>\n      <td>r6</td>\n      <td>Somehow Helpful</td>\n      <td>37</td>\n      <td>male</td>\n      <td>use_amazon-yes</td>\n      <td>read_review-yes</td>\n      <td>2021-04-25 23:46:51</td>\n      <td>1</td>\n      <td>0</td>\n      <td>4</td>\n    </tr>\n    <tr>\n      <th>38650</th>\n      <td>862</td>\n      <td>p9</td>\n      <td>r5</td>\n      <td>Not Sure</td>\n      <td>37</td>\n      <td>male</td>\n      <td>use_amazon-yes</td>\n      <td>read_review-yes</td>\n      <td>2021-04-25 23:46:51</td>\n      <td>1</td>\n      <td>1</td>\n      <td>3</td>\n    </tr>\n  </tbody>\n</table>\n<p>9720 rows × 12 columns</p>\n</div>"
     },
     "metadata": {},
     "execution_count": 74
    }
   ],
   "source": [
    "finalUser"
   ]
  },
  {
   "cell_type": "code",
   "execution_count": 75,
   "metadata": {},
   "outputs": [
    {
     "output_type": "execute_result",
     "data": {
      "text/plain": [
       "Text(0.5, 0, 'Number of Rating Type')"
      ]
     },
     "metadata": {},
     "execution_count": 75
    },
    {
     "output_type": "display_data",
     "data": {
      "text/plain": "<Figure size 432x288 with 1 Axes>",
      "image/svg+xml": "<?xml version=\"1.0\" encoding=\"utf-8\" standalone=\"no\"?>\n<!DOCTYPE svg PUBLIC \"-//W3C//DTD SVG 1.1//EN\"\n  \"http://www.w3.org/Graphics/SVG/1.1/DTD/svg11.dtd\">\n<!-- Created with matplotlib (https://matplotlib.org/) -->\n<svg height=\"259.168125pt\" version=\"1.1\" viewBox=\"0 0 366.2 259.168125\" width=\"366.2pt\" xmlns=\"http://www.w3.org/2000/svg\" xmlns:xlink=\"http://www.w3.org/1999/xlink\">\n <defs>\n  <style type=\"text/css\">\n*{stroke-linecap:butt;stroke-linejoin:round;}\n  </style>\n </defs>\n <g id=\"figure_1\">\n  <g id=\"patch_1\">\n   <path d=\"M 0 259.168125 \nL 366.2 259.168125 \nL 366.2 0 \nL 0 0 \nz\n\" style=\"fill:none;\"/>\n  </g>\n  <g id=\"axes_1\">\n   <g id=\"patch_2\">\n    <path d=\"M 24.2 224.64 \nL 359 224.64 \nL 359 7.2 \nL 24.2 7.2 \nz\n\" style=\"fill:#ffffff;\"/>\n   </g>\n   <g id=\"patch_3\">\n    <path clip-path=\"url(#p9f636038a6)\" d=\"M 39.418182 224.64 \nL 90.145455 224.64 \nL 90.145455 224.64 \nL 39.418182 224.64 \nz\n\" style=\"fill:#1f77b4;\"/>\n   </g>\n   <g id=\"patch_4\">\n    <path clip-path=\"url(#p9f636038a6)\" d=\"M 102.827273 224.64 \nL 153.554545 224.64 \nL 153.554545 224.64 \nL 102.827273 224.64 \nz\n\" style=\"fill:#1f77b4;\"/>\n   </g>\n   <g id=\"patch_5\">\n    <path clip-path=\"url(#p9f636038a6)\" d=\"M 166.236364 224.64 \nL 216.963636 224.64 \nL 216.963636 212.738522 \nL 166.236364 212.738522 \nz\n\" style=\"fill:#1f77b4;\"/>\n   </g>\n   <g id=\"patch_6\">\n    <path clip-path=\"url(#p9f636038a6)\" d=\"M 229.645455 224.64 \nL 280.372727 224.64 \nL 280.372727 17.554286 \nL 229.645455 17.554286 \nz\n\" style=\"fill:#1f77b4;\"/>\n   </g>\n   <g id=\"patch_7\">\n    <path clip-path=\"url(#p9f636038a6)\" d=\"M 293.054545 224.64 \nL 343.781818 224.64 \nL 343.781818 58.01931 \nL 293.054545 58.01931 \nz\n\" style=\"fill:#1f77b4;\"/>\n   </g>\n   <g id=\"matplotlib.axis_1\">\n    <g id=\"xtick_1\">\n     <g id=\"line2d_1\">\n      <defs>\n       <path d=\"M 0 0 \nL 0 3.5 \n\" id=\"mc8ded1a389\" style=\"stroke:#000000;stroke-width:0.8;\"/>\n      </defs>\n      <g>\n       <use style=\"stroke:#000000;stroke-width:0.8;\" x=\"64.781818\" xlink:href=\"#mc8ded1a389\" y=\"224.64\"/>\n      </g>\n     </g>\n     <g id=\"text_1\">\n      <!-- 1 -->\n      <defs>\n       <path d=\"M 30.46875 1.5625 \nL 21.484375 1.5625 \nL 21.484375 53.515625 \nL 9.765625 53.515625 \nL 9.765625 58.203125 \nQ 16.796875 58.203125 20.703125 60.9375 \nQ 24.609375 63.671875 25.78125 69.140625 \nL 30.46875 69.140625 \nz\n\" id=\"SimHei-49\"/>\n      </defs>\n      <g transform=\"translate(62.281818 238.475937)scale(0.1 -0.1)\">\n       <use xlink:href=\"#SimHei-49\"/>\n      </g>\n     </g>\n    </g>\n    <g id=\"xtick_2\">\n     <g id=\"line2d_2\">\n      <g>\n       <use style=\"stroke:#000000;stroke-width:0.8;\" x=\"128.190909\" xlink:href=\"#mc8ded1a389\" y=\"224.64\"/>\n      </g>\n     </g>\n     <g id=\"text_2\">\n      <!-- 2 -->\n      <defs>\n       <path d=\"M 44.53125 1.5625 \nL 4.6875 1.5625 \nL 4.6875 7.8125 \nQ 7.03125 14.0625 11.125 19.328125 \nQ 15.234375 24.609375 23.046875 31.25 \nQ 28.90625 36.328125 31.4375 40.625 \nQ 33.984375 44.921875 33.984375 50 \nQ 33.984375 55.078125 31.828125 58.390625 \nQ 29.6875 61.71875 25 61.71875 \nQ 21.09375 61.71875 18.15625 58.203125 \nQ 15.234375 54.6875 15.234375 45.703125 \nL 6.25 45.703125 \nQ 6.640625 57.03125 11.515625 63.078125 \nQ 16.40625 69.140625 25.390625 69.140625 \nQ 33.984375 69.140625 38.671875 63.859375 \nQ 43.359375 58.59375 43.359375 49.609375 \nQ 43.359375 42.1875 39.0625 36.71875 \nQ 34.765625 31.25 28.515625 25.78125 \nQ 21.484375 19.53125 18.75 16.40625 \nQ 16.015625 13.28125 13.671875 8.984375 \nL 44.53125 8.984375 \nz\n\" id=\"SimHei-50\"/>\n      </defs>\n      <g transform=\"translate(125.690909 238.475937)scale(0.1 -0.1)\">\n       <use xlink:href=\"#SimHei-50\"/>\n      </g>\n     </g>\n    </g>\n    <g id=\"xtick_3\">\n     <g id=\"line2d_3\">\n      <g>\n       <use style=\"stroke:#000000;stroke-width:0.8;\" x=\"191.6\" xlink:href=\"#mc8ded1a389\" y=\"224.64\"/>\n      </g>\n     </g>\n     <g id=\"text_3\">\n      <!-- 3 -->\n      <defs>\n       <path d=\"M 44.140625 20.3125 \nQ 44.140625 11.328125 38.46875 6.046875 \nQ 32.8125 0.78125 24.21875 0.78125 \nQ 15.625 0.78125 9.953125 6.046875 \nQ 4.296875 11.328125 4.296875 22.265625 \nL 13.28125 22.265625 \nQ 13.28125 14.84375 16.203125 11.515625 \nQ 19.140625 8.203125 24.21875 8.203125 \nQ 29.296875 8.203125 32.03125 11.328125 \nQ 34.765625 14.453125 34.765625 21.09375 \nQ 34.765625 26.5625 31.828125 29.6875 \nQ 28.90625 32.8125 21.484375 32.8125 \nL 21.484375 39.453125 \nQ 27.734375 39.453125 30.65625 42.578125 \nQ 33.59375 45.703125 33.59375 51.953125 \nQ 33.59375 56.640625 31.4375 59.375 \nQ 29.296875 62.109375 24.609375 62.109375 \nQ 19.921875 62.109375 17.375 58.78125 \nQ 14.84375 55.46875 14.453125 49.21875 \nL 5.859375 49.21875 \nQ 6.640625 58.203125 11.515625 63.671875 \nQ 16.40625 69.140625 24.609375 69.140625 \nQ 33.203125 69.140625 37.890625 64.25 \nQ 42.578125 59.375 42.578125 52.34375 \nQ 42.578125 45.703125 40.234375 41.984375 \nQ 37.890625 38.28125 32.421875 36.328125 \nQ 37.890625 35.15625 41.015625 30.859375 \nQ 44.140625 26.5625 44.140625 20.3125 \nz\n\" id=\"SimHei-51\"/>\n      </defs>\n      <g transform=\"translate(189.1 238.475937)scale(0.1 -0.1)\">\n       <use xlink:href=\"#SimHei-51\"/>\n      </g>\n     </g>\n    </g>\n    <g id=\"xtick_4\">\n     <g id=\"line2d_4\">\n      <g>\n       <use style=\"stroke:#000000;stroke-width:0.8;\" x=\"255.009091\" xlink:href=\"#mc8ded1a389\" y=\"224.64\"/>\n      </g>\n     </g>\n     <g id=\"text_4\">\n      <!-- 4 -->\n      <defs>\n       <path d=\"M 46.484375 18.75 \nL 38.28125 18.75 \nL 38.28125 1.5625 \nL 29.296875 1.5625 \nL 29.296875 18.75 \nL 3.125 18.75 \nL 3.125 26.171875 \nL 29.296875 69.140625 \nL 38.28125 69.140625 \nL 38.28125 26.171875 \nL 46.484375 26.171875 \nz\nM 29.296875 26.171875 \nL 29.296875 55.078125 \nL 11.71875 26.171875 \nz\n\" id=\"SimHei-52\"/>\n      </defs>\n      <g transform=\"translate(252.509091 238.475937)scale(0.1 -0.1)\">\n       <use xlink:href=\"#SimHei-52\"/>\n      </g>\n     </g>\n    </g>\n    <g id=\"xtick_5\">\n     <g id=\"line2d_5\">\n      <g>\n       <use style=\"stroke:#000000;stroke-width:0.8;\" x=\"318.418182\" xlink:href=\"#mc8ded1a389\" y=\"224.64\"/>\n      </g>\n     </g>\n     <g id=\"text_5\">\n      <!-- 5 -->\n      <defs>\n       <path d=\"M 44.140625 25.78125 \nQ 44.140625 14.0625 38.46875 7.421875 \nQ 32.8125 0.78125 23.4375 0.78125 \nQ 15.234375 0.78125 9.953125 6.25 \nQ 4.6875 11.71875 4.296875 21.09375 \nL 13.28125 21.09375 \nQ 13.28125 15.234375 16.015625 11.71875 \nQ 18.75 8.203125 23.828125 8.203125 \nQ 28.90625 8.203125 31.828125 12.5 \nQ 34.765625 16.796875 34.765625 25.78125 \nQ 34.765625 33.59375 32.21875 37.296875 \nQ 29.6875 41.015625 25.390625 41.015625 \nQ 21.875 41.015625 19.328125 39.453125 \nQ 16.796875 37.890625 14.453125 33.984375 \nL 6.640625 33.984375 \nL 8.984375 68.359375 \nL 42.578125 68.359375 \nL 42.578125 60.9375 \nL 16.40625 60.9375 \nL 14.84375 42.96875 \nQ 17.1875 45.3125 19.921875 46.484375 \nQ 22.65625 47.65625 27.34375 47.65625 \nQ 34.765625 47.65625 39.453125 41.984375 \nQ 44.140625 36.328125 44.140625 25.78125 \nz\n\" id=\"SimHei-53\"/>\n      </defs>\n      <g transform=\"translate(315.918182 238.475937)scale(0.1 -0.1)\">\n       <use xlink:href=\"#SimHei-53\"/>\n      </g>\n     </g>\n    </g>\n    <g id=\"text_6\">\n     <!-- Number of Rating Type -->\n     <defs>\n      <path d=\"M 44.921875 1.5625 \nL 35.15625 1.5625 \nL 13.671875 50 \nL 13.28125 50 \nL 13.28125 1.5625 \nL 4.296875 1.5625 \nL 4.296875 68.359375 \nL 14.0625 68.359375 \nL 35.546875 19.921875 \nL 35.9375 19.921875 \nL 35.9375 68.359375 \nL 44.921875 68.359375 \nz\n\" id=\"SimHei-78\"/>\n      <path d=\"M 44.140625 1.5625 \nL 36.328125 1.5625 \nL 36.328125 9.765625 \nQ 33.203125 5.46875 29.484375 3.125 \nQ 25.78125 0.78125 19.921875 0.78125 \nQ 12.890625 0.78125 9.375 4.6875 \nQ 5.859375 8.59375 5.859375 14.453125 \nL 5.859375 45.3125 \nL 13.671875 45.3125 \nL 13.671875 17.1875 \nQ 13.671875 12.5 16.015625 9.765625 \nQ 18.359375 7.03125 22.265625 7.03125 \nQ 27.34375 7.03125 31.828125 12.296875 \nQ 36.328125 17.578125 36.328125 25.390625 \nL 36.328125 45.3125 \nL 44.140625 45.3125 \nz\n\" id=\"SimHei-117\"/>\n      <path d=\"M 48.046875 1.5625 \nL 40.234375 1.5625 \nL 40.234375 33.203125 \nQ 40.234375 35.546875 39.453125 37.109375 \nQ 38.671875 38.671875 36.328125 38.671875 \nQ 33.59375 38.671875 31.25 35.734375 \nQ 28.90625 32.8125 28.90625 28.125 \nL 28.90625 1.5625 \nL 21.09375 1.5625 \nL 21.09375 33.203125 \nQ 21.09375 35.546875 20.3125 37.109375 \nQ 19.53125 38.671875 17.1875 38.671875 \nQ 14.453125 38.671875 12.109375 35.734375 \nQ 9.765625 32.8125 9.765625 28.125 \nL 9.765625 1.5625 \nL 1.953125 1.5625 \nL 1.953125 45.3125 \nL 9.765625 45.3125 \nL 9.765625 39.453125 \nQ 11.71875 42.578125 14.453125 44.328125 \nQ 17.1875 46.09375 20.3125 46.09375 \nQ 23.4375 46.09375 25.578125 44.328125 \nQ 27.734375 42.578125 28.515625 39.453125 \nQ 30.46875 42.578125 33 44.328125 \nQ 35.546875 46.09375 38.671875 46.09375 \nQ 43.359375 46.09375 45.703125 43.546875 \nQ 48.046875 41.015625 48.046875 36.328125 \nz\n\" id=\"SimHei-109\"/>\n      <path d=\"M 44.53125 23.4375 \nQ 44.53125 12.109375 39.0625 6.4375 \nQ 33.59375 0.78125 25.78125 0.78125 \nQ 21.484375 0.78125 18.359375 2.34375 \nQ 15.234375 3.90625 12.890625 7.421875 \nL 12.890625 1.5625 \nL 5.078125 1.5625 \nL 5.078125 68.359375 \nL 12.890625 68.359375 \nL 12.890625 39.453125 \nQ 15.234375 42.96875 18.359375 44.71875 \nQ 21.484375 46.484375 25.78125 46.484375 \nQ 33.59375 46.484375 39.0625 40.625 \nQ 44.53125 34.765625 44.53125 23.4375 \nz\nM 35.9375 23.4375 \nQ 35.9375 30.859375 33 35.15625 \nQ 30.078125 39.453125 24.21875 39.453125 \nQ 19.53125 39.453125 16.203125 35.15625 \nQ 12.890625 30.859375 12.890625 23.4375 \nQ 12.890625 16.015625 16.203125 11.90625 \nQ 19.53125 7.8125 24.21875 7.8125 \nQ 30.078125 7.8125 33 11.90625 \nQ 35.9375 16.015625 35.9375 23.4375 \nz\n\" id=\"SimHei-98\"/>\n      <path d=\"M 44.921875 16.40625 \nQ 44.140625 9.375 38.671875 5.078125 \nQ 33.203125 0.78125 25.78125 0.78125 \nQ 16.40625 0.78125 10.34375 6.828125 \nQ 4.296875 12.890625 4.296875 23.4375 \nQ 4.296875 33.984375 10.34375 40.03125 \nQ 16.40625 46.09375 25.78125 46.09375 \nQ 33.984375 46.09375 39.25 40.8125 \nQ 44.53125 35.546875 44.53125 23.4375 \nL 12.890625 23.4375 \nQ 12.890625 14.84375 16.59375 11.328125 \nQ 20.3125 7.8125 25.78125 7.8125 \nQ 30.078125 7.8125 32.8125 9.953125 \nQ 35.546875 12.109375 36.328125 16.40625 \nz\nM 35.546875 29.6875 \nQ 34.765625 35.15625 32.03125 37.296875 \nQ 29.296875 39.453125 25 39.453125 \nQ 21.09375 39.453125 17.96875 37.296875 \nQ 14.84375 35.15625 13.28125 29.6875 \nz\n\" id=\"SimHei-101\"/>\n      <path d=\"M 39.453125 37.5 \nQ 32.03125 38.671875 26.953125 35.34375 \nQ 21.875 32.03125 18.359375 23.828125 \nL 18.359375 1.5625 \nL 10.546875 1.5625 \nL 10.546875 45.3125 \nL 18.359375 45.3125 \nL 18.359375 33.984375 \nQ 21.875 40.234375 27.140625 43.15625 \nQ 32.421875 46.09375 39.453125 46.09375 \nz\n\" id=\"SimHei-114\"/>\n      <path id=\"SimHei-32\"/>\n      <path d=\"M 46.09375 23.4375 \nQ 46.09375 13.28125 39.84375 7.03125 \nQ 33.59375 0.78125 25 0.78125 \nQ 16.40625 0.78125 10.15625 7.03125 \nQ 3.90625 13.28125 3.90625 23.4375 \nQ 3.90625 33.59375 10.15625 39.84375 \nQ 16.40625 46.09375 25 46.09375 \nQ 33.59375 46.09375 39.84375 39.84375 \nQ 46.09375 33.59375 46.09375 23.4375 \nz\nM 37.5 23.4375 \nQ 37.5 31.25 33.59375 35.15625 \nQ 29.6875 39.0625 25 39.0625 \nQ 20.3125 39.0625 16.40625 35.15625 \nQ 12.5 31.25 12.5 23.4375 \nQ 12.5 15.625 16.40625 11.71875 \nQ 20.3125 7.8125 25 7.8125 \nQ 29.6875 7.8125 33.59375 11.71875 \nQ 37.5 15.625 37.5 23.4375 \nz\n\" id=\"SimHei-111\"/>\n      <path d=\"M 44.921875 59.375 \nQ 42.96875 60.546875 40.234375 61.328125 \nQ 37.5 62.109375 33.203125 62.109375 \nQ 28.90625 62.109375 27.34375 59.953125 \nQ 25.78125 57.8125 25.78125 54.6875 \nL 25.78125 45.3125 \nL 41.796875 45.3125 \nL 41.796875 39.0625 \nL 25.78125 39.0625 \nL 25.78125 1.5625 \nL 17.96875 1.5625 \nL 17.96875 39.0625 \nL 4.6875 39.0625 \nL 4.6875 45.3125 \nL 17.96875 45.3125 \nL 17.96875 54.296875 \nQ 17.96875 61.328125 22.265625 65.234375 \nQ 26.5625 69.140625 33.59375 69.140625 \nQ 37.890625 69.140625 40.421875 68.546875 \nQ 42.96875 67.96875 44.921875 67.1875 \nz\n\" id=\"SimHei-102\"/>\n      <path d=\"M 47.265625 1.5625 \nL 37.890625 1.5625 \nL 23.828125 30.46875 \nL 13.671875 30.46875 \nL 13.671875 1.5625 \nL 4.6875 1.5625 \nL 4.6875 68.359375 \nL 24.21875 68.359375 \nQ 33.59375 68.359375 39.453125 63.859375 \nQ 45.3125 59.375 45.3125 49.21875 \nQ 45.3125 41.40625 41.40625 37.109375 \nQ 37.5 32.8125 32.421875 31.640625 \nz\nM 36.328125 49.21875 \nQ 36.328125 54.6875 33 57.8125 \nQ 29.6875 60.9375 22.265625 60.9375 \nL 13.671875 60.9375 \nL 13.671875 37.890625 \nL 24.609375 37.890625 \nQ 29.296875 37.890625 32.8125 40.421875 \nQ 36.328125 42.96875 36.328125 49.21875 \nz\n\" id=\"SimHei-82\"/>\n      <path d=\"M 45.3125 1.5625 \nL 35.9375 1.5625 \nQ 35.15625 2.34375 34.765625 3.703125 \nQ 34.375 5.078125 34.375 7.03125 \nQ 31.640625 3.90625 27.734375 2.34375 \nQ 23.828125 0.78125 19.53125 0.78125 \nQ 13.28125 0.78125 8.984375 3.90625 \nQ 4.6875 7.03125 4.6875 12.890625 \nQ 4.6875 18.75 8.59375 22.265625 \nQ 12.5 25.78125 20.703125 26.953125 \nQ 26.171875 27.734375 30.265625 28.90625 \nQ 34.375 30.078125 34.375 32.03125 \nQ 34.375 34.375 32.609375 36.71875 \nQ 30.859375 39.0625 25 39.0625 \nQ 20.3125 39.0625 18.15625 37.296875 \nQ 16.015625 35.546875 15.234375 32.421875 \nL 6.640625 32.421875 \nQ 7.421875 38.671875 12.296875 42.375 \nQ 17.1875 46.09375 25 46.09375 \nQ 33.59375 46.09375 37.890625 42.1875 \nQ 42.1875 38.28125 42.1875 31.25 \nL 42.1875 9.765625 \nQ 42.1875 7.421875 42.96875 5.46875 \nQ 43.75 3.515625 45.3125 1.5625 \nz\nM 34.375 16.015625 \nL 34.375 23.828125 \nQ 32.03125 23.046875 29.875 22.453125 \nQ 27.734375 21.875 22.65625 21.09375 \nQ 16.796875 20.3125 15.03125 18.359375 \nQ 13.28125 16.40625 13.28125 13.671875 \nQ 13.28125 11.328125 15.03125 9.5625 \nQ 16.796875 7.8125 20.3125 7.8125 \nQ 23.828125 7.8125 27.921875 9.765625 \nQ 32.03125 11.71875 34.375 16.015625 \nz\n\" id=\"SimHei-97\"/>\n      <path d=\"M 43.359375 2.734375 \nQ 41.40625 1.953125 38.859375 1.359375 \nQ 36.328125 0.78125 32.03125 0.78125 \nQ 25 0.78125 20.703125 4.6875 \nQ 16.40625 8.59375 16.40625 15.625 \nL 16.40625 39.0625 \nL 3.125 39.0625 \nL 3.125 45.3125 \nL 16.40625 45.3125 \nL 16.40625 60.546875 \nL 24.21875 60.546875 \nL 24.21875 45.3125 \nL 40.234375 45.3125 \nL 40.234375 39.0625 \nL 24.21875 39.0625 \nL 24.21875 15.234375 \nQ 24.21875 12.109375 25.78125 9.953125 \nQ 27.34375 7.8125 31.640625 7.8125 \nQ 35.9375 7.8125 38.671875 8.59375 \nQ 41.40625 9.375 43.359375 10.546875 \nz\n\" id=\"SimHei-116\"/>\n      <path d=\"M 28.515625 57.8125 \nL 20.703125 57.8125 \nL 20.703125 67.96875 \nL 28.515625 67.96875 \nz\nM 28.515625 1.5625 \nL 20.703125 1.5625 \nL 20.703125 45.3125 \nL 28.515625 45.3125 \nz\n\" id=\"SimHei-105\"/>\n      <path d=\"M 44.140625 1.5625 \nL 36.328125 1.5625 \nL 36.328125 29.6875 \nQ 36.328125 34.375 33.984375 37.109375 \nQ 31.640625 39.84375 27.734375 39.84375 \nQ 22.65625 39.84375 18.15625 34.5625 \nQ 13.671875 29.296875 13.671875 21.484375 \nL 13.671875 1.5625 \nL 5.859375 1.5625 \nL 5.859375 45.3125 \nL 13.671875 45.3125 \nL 13.671875 37.109375 \nQ 16.796875 41.40625 20.5 43.75 \nQ 24.21875 46.09375 30.078125 46.09375 \nQ 37.109375 46.09375 40.625 42.1875 \nQ 44.140625 38.28125 44.140625 32.421875 \nz\n\" id=\"SimHei-110\"/>\n      <path d=\"M 46.875 38.671875 \nQ 44.140625 39.453125 41.59375 39.640625 \nQ 39.0625 39.84375 36.328125 39.0625 \nQ 37.5 37.890625 38.28125 36.125 \nQ 39.0625 34.375 39.0625 30.859375 \nQ 39.0625 24.21875 34.5625 19.921875 \nQ 30.078125 15.625 23.4375 15.625 \nQ 21.875 15.625 19.328125 16.203125 \nQ 16.796875 16.796875 15.234375 17.578125 \nQ 14.0625 16.796875 13.671875 16.015625 \nQ 13.28125 15.234375 13.28125 14.0625 \nQ 13.28125 12.109375 16.015625 11.125 \nQ 18.75 10.15625 25.78125 10.15625 \nQ 37.109375 10.15625 41.203125 7.03125 \nQ 45.3125 3.90625 45.3125 -0.78125 \nQ 45.3125 -7.03125 39.25 -9.953125 \nQ 33.203125 -12.890625 25 -12.890625 \nQ 14.453125 -12.890625 9.375 -10.15625 \nQ 4.296875 -7.421875 4.296875 -2.734375 \nQ 4.296875 -0.390625 6.25 1.953125 \nQ 8.203125 4.296875 11.328125 5.859375 \nQ 8.984375 7.03125 7.609375 8.78125 \nQ 6.25 10.546875 6.25 13.28125 \nQ 6.25 15.625 8 17.375 \nQ 9.765625 19.140625 12.109375 20.3125 \nQ 10.15625 22.265625 8.984375 25 \nQ 7.8125 27.734375 7.8125 30.859375 \nQ 7.8125 37.5 12.296875 41.796875 \nQ 16.796875 46.09375 23.4375 46.09375 \nQ 26.953125 46.09375 29.484375 45.109375 \nQ 32.03125 44.140625 33.984375 42.1875 \nQ 37.109375 44.53125 40.234375 45.5 \nQ 43.359375 46.484375 46.875 46.09375 \nz\nM 31.25 30.859375 \nQ 31.25 34.765625 29.296875 37.109375 \nQ 27.34375 39.453125 23.4375 39.453125 \nQ 19.53125 39.453125 17.578125 37.109375 \nQ 15.625 34.765625 15.625 30.859375 \nQ 15.625 26.953125 17.578125 24.609375 \nQ 19.53125 22.265625 23.4375 22.265625 \nQ 27.34375 22.265625 29.296875 24.609375 \nQ 31.25 26.953125 31.25 30.859375 \nz\nM 37.890625 -1.5625 \nQ 37.890625 0 36.125 1.5625 \nQ 34.375 3.125 27.34375 3.125 \nQ 25.78125 3.125 23.046875 3.3125 \nQ 20.3125 3.515625 16.796875 3.90625 \nQ 13.671875 2.734375 12.5 1.171875 \nQ 11.328125 -0.390625 11.328125 -1.953125 \nQ 11.328125 -4.296875 14.453125 -5.859375 \nQ 17.578125 -7.421875 25.390625 -7.421875 \nQ 32.03125 -7.421875 34.953125 -5.65625 \nQ 37.890625 -3.90625 37.890625 -1.5625 \nz\n\" id=\"SimHei-103\"/>\n      <path d=\"M 44.921875 60.9375 \nL 29.296875 60.9375 \nL 29.296875 1.5625 \nL 20.3125 1.5625 \nL 20.3125 60.9375 \nL 4.6875 60.9375 \nL 4.6875 68.359375 \nL 44.921875 68.359375 \nz\n\" id=\"SimHei-84\"/>\n      <path d=\"M 45.703125 45.3125 \nL 27.734375 -1.953125 \nQ 26.171875 -7.421875 23.046875 -10.15625 \nQ 19.921875 -12.890625 15.234375 -12.890625 \nQ 13.28125 -12.890625 11.515625 -12.6875 \nQ 9.765625 -12.5 8.203125 -11.71875 \nL 8.203125 -3.90625 \nQ 9.765625 -4.6875 11.328125 -5.078125 \nQ 12.890625 -5.46875 14.0625 -5.46875 \nQ 17.1875 -5.46875 18.359375 -4.484375 \nQ 19.53125 -3.515625 20.703125 0 \nL 3.515625 45.3125 \nL 12.109375 45.3125 \nL 24.609375 10.9375 \nL 25 10.9375 \nL 37.109375 45.3125 \nz\n\" id=\"SimHei-121\"/>\n      <path d=\"M 44.53125 23.4375 \nQ 44.53125 12.109375 39.0625 6.25 \nQ 33.59375 0.390625 25.78125 0.390625 \nQ 21.484375 0.390625 18.359375 2.140625 \nQ 15.234375 3.90625 12.890625 7.421875 \nL 12.890625 -12.890625 \nL 5.078125 -12.890625 \nL 5.078125 45.3125 \nL 12.890625 45.3125 \nL 12.890625 39.453125 \nQ 15.234375 42.96875 18.359375 44.53125 \nQ 21.484375 46.09375 25.78125 46.09375 \nQ 33.59375 46.09375 39.0625 40.421875 \nQ 44.53125 34.765625 44.53125 23.4375 \nz\nM 35.9375 23.4375 \nQ 35.9375 30.859375 33 34.953125 \nQ 30.078125 39.0625 24.21875 39.0625 \nQ 19.53125 39.0625 16.203125 34.953125 \nQ 12.890625 30.859375 12.890625 23.4375 \nQ 12.890625 16.015625 16.203125 11.71875 \nQ 19.53125 7.421875 24.21875 7.421875 \nQ 30.078125 7.421875 33 11.71875 \nQ 35.9375 16.015625 35.9375 23.4375 \nz\n\" id=\"SimHei-112\"/>\n     </defs>\n     <g transform=\"translate(139.1 250.679062)scale(0.1 -0.1)\">\n      <use xlink:href=\"#SimHei-78\"/>\n      <use x=\"50\" xlink:href=\"#SimHei-117\"/>\n      <use x=\"100\" xlink:href=\"#SimHei-109\"/>\n      <use x=\"150\" xlink:href=\"#SimHei-98\"/>\n      <use x=\"200\" xlink:href=\"#SimHei-101\"/>\n      <use x=\"250\" xlink:href=\"#SimHei-114\"/>\n      <use x=\"300\" xlink:href=\"#SimHei-32\"/>\n      <use x=\"350\" xlink:href=\"#SimHei-111\"/>\n      <use x=\"400\" xlink:href=\"#SimHei-102\"/>\n      <use x=\"450\" xlink:href=\"#SimHei-32\"/>\n      <use x=\"500\" xlink:href=\"#SimHei-82\"/>\n      <use x=\"550\" xlink:href=\"#SimHei-97\"/>\n      <use x=\"600\" xlink:href=\"#SimHei-116\"/>\n      <use x=\"650\" xlink:href=\"#SimHei-105\"/>\n      <use x=\"700\" xlink:href=\"#SimHei-110\"/>\n      <use x=\"750\" xlink:href=\"#SimHei-103\"/>\n      <use x=\"800\" xlink:href=\"#SimHei-32\"/>\n      <use x=\"850\" xlink:href=\"#SimHei-84\"/>\n      <use x=\"900\" xlink:href=\"#SimHei-121\"/>\n      <use x=\"950\" xlink:href=\"#SimHei-112\"/>\n      <use x=\"1000\" xlink:href=\"#SimHei-101\"/>\n     </g>\n    </g>\n   </g>\n   <g id=\"matplotlib.axis_2\">\n    <g id=\"ytick_1\">\n     <g id=\"line2d_6\">\n      <defs>\n       <path d=\"M 0 0 \nL -3.5 0 \n\" id=\"mdfa40f362e\" style=\"stroke:#000000;stroke-width:0.8;\"/>\n      </defs>\n      <g>\n       <use style=\"stroke:#000000;stroke-width:0.8;\" x=\"24.2\" xlink:href=\"#mdfa40f362e\" y=\"224.64\"/>\n      </g>\n     </g>\n     <g id=\"text_7\">\n      <!-- 0 -->\n      <defs>\n       <path d=\"M 46.484375 35.15625 \nQ 46.484375 21.09375 41.40625 10.9375 \nQ 36.328125 0.78125 25 0.78125 \nQ 13.671875 0.78125 8.390625 10.9375 \nQ 3.125 21.09375 3.125 35.15625 \nQ 3.125 49.21875 8.390625 59.171875 \nQ 13.671875 69.140625 25 69.140625 \nQ 36.328125 69.140625 41.40625 59.171875 \nQ 46.484375 49.21875 46.484375 35.15625 \nz\nM 37.109375 35.15625 \nQ 37.109375 47.65625 34.171875 54.6875 \nQ 31.25 61.71875 25 61.71875 \nQ 18.75 61.71875 15.625 54.6875 \nQ 12.5 47.65625 12.5 35.15625 \nQ 12.5 22.65625 15.625 15.421875 \nQ 18.75 8.203125 25 8.203125 \nQ 31.25 8.203125 34.171875 15.421875 \nQ 37.109375 22.65625 37.109375 35.15625 \nz\n\" id=\"SimHei-48\"/>\n      </defs>\n      <g transform=\"translate(12.2 228.057969)scale(0.1 -0.1)\">\n       <use xlink:href=\"#SimHei-48\"/>\n      </g>\n     </g>\n    </g>\n    <g id=\"ytick_2\">\n     <g id=\"line2d_7\">\n      <g>\n       <use style=\"stroke:#000000;stroke-width:0.8;\" x=\"24.2\" xlink:href=\"#mdfa40f362e\" y=\"177.034089\"/>\n      </g>\n     </g>\n     <g id=\"text_8\">\n      <!-- 20 -->\n      <g transform=\"translate(7.2 180.452057)scale(0.1 -0.1)\">\n       <use xlink:href=\"#SimHei-50\"/>\n       <use x=\"50\" xlink:href=\"#SimHei-48\"/>\n      </g>\n     </g>\n    </g>\n    <g id=\"ytick_3\">\n     <g id=\"line2d_8\">\n      <g>\n       <use style=\"stroke:#000000;stroke-width:0.8;\" x=\"24.2\" xlink:href=\"#mdfa40f362e\" y=\"129.428177\"/>\n      </g>\n     </g>\n     <g id=\"text_9\">\n      <!-- 40 -->\n      <g transform=\"translate(7.2 132.846146)scale(0.1 -0.1)\">\n       <use xlink:href=\"#SimHei-52\"/>\n       <use x=\"50\" xlink:href=\"#SimHei-48\"/>\n      </g>\n     </g>\n    </g>\n    <g id=\"ytick_4\">\n     <g id=\"line2d_9\">\n      <g>\n       <use style=\"stroke:#000000;stroke-width:0.8;\" x=\"24.2\" xlink:href=\"#mdfa40f362e\" y=\"81.822266\"/>\n      </g>\n     </g>\n     <g id=\"text_10\">\n      <!-- 60 -->\n      <defs>\n       <path d=\"M 44.53125 24.21875 \nQ 44.53125 13.28125 39.84375 7.03125 \nQ 35.15625 0.78125 25.78125 0.78125 \nQ 16.40625 0.78125 10.9375 8.59375 \nQ 5.46875 16.40625 5.46875 33.984375 \nQ 5.46875 50 11.125 59.5625 \nQ 16.796875 69.140625 27.34375 69.140625 \nQ 34.765625 69.140625 39.25 63.671875 \nQ 43.75 58.203125 43.75 51.5625 \nL 34.765625 51.5625 \nQ 34.765625 55.46875 32.609375 58.59375 \nQ 30.46875 61.71875 26.953125 61.71875 \nQ 21.09375 61.71875 17.96875 55.65625 \nQ 14.84375 49.609375 14.453125 37.109375 \nQ 17.1875 42.1875 20.3125 44.140625 \nQ 23.4375 46.09375 27.734375 46.09375 \nQ 35.15625 46.09375 39.84375 40.234375 \nQ 44.53125 34.375 44.53125 24.21875 \nz\nM 35.15625 24.21875 \nQ 35.15625 31.25 32.8125 35.15625 \nQ 30.46875 39.0625 26.171875 39.0625 \nQ 21.09375 39.0625 18.15625 35.15625 \nQ 15.234375 31.25 15.234375 25.78125 \nQ 15.234375 17.1875 18.15625 12.5 \nQ 21.09375 7.8125 26.171875 7.8125 \nQ 29.6875 7.8125 32.421875 11.328125 \nQ 35.15625 14.84375 35.15625 24.21875 \nz\n\" id=\"SimHei-54\"/>\n      </defs>\n      <g transform=\"translate(7.2 85.240235)scale(0.1 -0.1)\">\n       <use xlink:href=\"#SimHei-54\"/>\n       <use x=\"50\" xlink:href=\"#SimHei-48\"/>\n      </g>\n     </g>\n    </g>\n    <g id=\"ytick_5\">\n     <g id=\"line2d_10\">\n      <g>\n       <use style=\"stroke:#000000;stroke-width:0.8;\" x=\"24.2\" xlink:href=\"#mdfa40f362e\" y=\"34.216355\"/>\n      </g>\n     </g>\n     <g id=\"text_11\">\n      <!-- 80 -->\n      <defs>\n       <path d=\"M 44.921875 20.703125 \nQ 44.921875 10.9375 39.453125 5.859375 \nQ 33.984375 0.78125 24.609375 0.78125 \nQ 15.234375 0.78125 9.765625 5.859375 \nQ 4.296875 10.9375 4.296875 20.703125 \nQ 4.296875 25.78125 7.421875 29.875 \nQ 10.546875 33.984375 16.015625 35.9375 \nQ 11.328125 37.890625 8.78125 41.40625 \nQ 6.25 44.921875 6.25 50.390625 \nQ 6.25 58.984375 11.71875 64.0625 \nQ 17.1875 69.140625 24.609375 69.140625 \nQ 32.03125 69.140625 37.5 64.0625 \nQ 42.96875 58.984375 42.96875 50.390625 \nQ 42.96875 44.921875 40.421875 41.40625 \nQ 37.890625 37.890625 33.203125 35.9375 \nQ 38.671875 33.984375 41.796875 29.875 \nQ 44.921875 25.78125 44.921875 20.703125 \nz\nM 34.375 50.390625 \nQ 34.375 56.640625 31.640625 59.375 \nQ 28.90625 62.109375 24.609375 62.109375 \nQ 20.3125 62.109375 17.578125 59.375 \nQ 14.84375 56.640625 14.84375 50.390625 \nQ 14.84375 44.140625 17.765625 41.59375 \nQ 20.703125 39.0625 24.609375 39.0625 \nQ 28.515625 39.0625 31.4375 41.59375 \nQ 34.375 44.140625 34.375 50.390625 \nz\nM 35.9375 20.703125 \nQ 35.9375 26.171875 33 29.296875 \nQ 30.078125 32.421875 24.609375 32.421875 \nQ 19.140625 32.421875 16.203125 29.296875 \nQ 13.28125 26.171875 13.28125 20.703125 \nQ 13.28125 14.453125 16.40625 11.125 \nQ 19.53125 7.8125 24.609375 7.8125 \nQ 29.6875 7.8125 32.8125 11.125 \nQ 35.9375 14.453125 35.9375 20.703125 \nz\n\" id=\"SimHei-56\"/>\n      </defs>\n      <g transform=\"translate(7.2 37.634323)scale(0.1 -0.1)\">\n       <use xlink:href=\"#SimHei-56\"/>\n       <use x=\"50\" xlink:href=\"#SimHei-48\"/>\n      </g>\n     </g>\n    </g>\n   </g>\n   <g id=\"patch_8\">\n    <path d=\"M 24.2 224.64 \nL 24.2 7.2 \n\" style=\"fill:none;stroke:#000000;stroke-linecap:square;stroke-linejoin:miter;stroke-width:0.8;\"/>\n   </g>\n   <g id=\"patch_9\">\n    <path d=\"M 359 224.64 \nL 359 7.2 \n\" style=\"fill:none;stroke:#000000;stroke-linecap:square;stroke-linejoin:miter;stroke-width:0.8;\"/>\n   </g>\n   <g id=\"patch_10\">\n    <path d=\"M 24.2 224.64 \nL 359 224.64 \n\" style=\"fill:none;stroke:#000000;stroke-linecap:square;stroke-linejoin:miter;stroke-width:0.8;\"/>\n   </g>\n   <g id=\"patch_11\">\n    <path d=\"M 24.2 7.2 \nL 359 7.2 \n\" style=\"fill:none;stroke:#000000;stroke-linecap:square;stroke-linejoin:miter;stroke-width:0.8;\"/>\n   </g>\n   <g id=\"text_12\">\n    <!-- 0 -->\n    <g transform=\"translate(62.281818 223.350937)scale(0.1 -0.1)\">\n     <use xlink:href=\"#SimHei-48\"/>\n    </g>\n   </g>\n   <g id=\"text_13\">\n    <!-- 0 -->\n    <g transform=\"translate(125.690909 223.350937)scale(0.1 -0.1)\">\n     <use xlink:href=\"#SimHei-48\"/>\n    </g>\n   </g>\n   <g id=\"text_14\">\n    <!-- 5 -->\n    <g transform=\"translate(189.1 211.44946)scale(0.1 -0.1)\">\n     <use xlink:href=\"#SimHei-53\"/>\n    </g>\n   </g>\n   <g id=\"text_15\">\n    <!-- 87 -->\n    <defs>\n     <path d=\"M 43.359375 60.15625 \nL 25 1.5625 \nL 16.015625 1.5625 \nL 34.765625 60.9375 \nL 6.25 60.9375 \nL 6.25 68.359375 \nL 43.359375 68.359375 \nz\n\" id=\"SimHei-55\"/>\n    </defs>\n    <g transform=\"translate(250.009091 16.265223)scale(0.1 -0.1)\">\n     <use xlink:href=\"#SimHei-56\"/>\n     <use x=\"50\" xlink:href=\"#SimHei-55\"/>\n    </g>\n   </g>\n   <g id=\"text_16\">\n    <!-- 70 -->\n    <g transform=\"translate(313.418182 56.730248)scale(0.1 -0.1)\">\n     <use xlink:href=\"#SimHei-55\"/>\n     <use x=\"50\" xlink:href=\"#SimHei-48\"/>\n    </g>\n   </g>\n  </g>\n </g>\n <defs>\n  <clipPath id=\"p9f636038a6\">\n   <rect height=\"217.44\" width=\"334.8\" x=\"24.2\" y=\"7.2\"/>\n  </clipPath>\n </defs>\n</svg>\n",
      "image/png": "[encoded data removed]"
     },
     "metadata": {
      "needs_background": "light"
     }
    }
   ],
   "source": [
    "# Unique Answer in finalUser\n",
    "ratingUnique = finalUser.groupby(['userId'])['rating'].nunique()\n",
    "\n",
    "# Plot unqiue number\n",
    "unqiueList = []\n",
    "for i in range(1, 6):\n",
    "    unqiueList.append(np.sum(ratingUnique == i))\n",
    "\n",
    "plt.bar(range(1,6), unqiueList)\n",
    "for x,y in zip(range(1,6), unqiueList):\n",
    "    plt.text(x, y, y, ha='center',va='bottom')\n",
    "plt.xlabel('Number of Rating Type')"
   ]
  }
 ]
}